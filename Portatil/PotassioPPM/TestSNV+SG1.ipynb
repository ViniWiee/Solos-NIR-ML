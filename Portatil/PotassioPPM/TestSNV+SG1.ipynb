{
 "cells": [
  {
   "cell_type": "code",
   "execution_count": 1,
   "metadata": {
    "collapsed": true
   },
   "outputs": [],
   "source": [
    "from sys import stdout\n",
    "import pandas as pd\n",
    "import numpy as np\n",
    "from matplotlib import pyplot as plt\n",
    "from pyod.models.qmcd import QMCD\n",
    "from scipy.signal import savgol_filter\n",
    "from sklearn.cross_decomposition import PLSRegression\n",
    "from sklearn.metrics import mean_squared_error, mean_absolute_error, r2_score\n",
    "from sklearn.model_selection import cross_val_predict\n",
    "import astartes as at"
   ]
  },
  {
   "cell_type": "code",
   "execution_count": 2,
   "outputs": [
    {
     "name": "stdout",
     "output_type": "stream",
     "text": [
      "<class 'pandas.core.frame.DataFrame'>\n",
      "RangeIndex: 188 entries, 0 to 187\n",
      "Columns: 264 entries, ID to % K\n",
      "dtypes: float64(262), int64(1), object(1)\n",
      "memory usage: 387.9+ KB\n"
     ]
    }
   ],
   "source": [
    "## lendo e preparando o dataset\n",
    "Dados = pd.read_excel('Dados.xlsx',sheet_name='Portatil')\n",
    "Dados.info()\n",
    "y = np.asarray(Dados.iloc[:,262])\n",
    "y = np.asarray(y,dtype='int')\n",
    "spectrum = np.asarray(Dados.iloc[:,2:258])\n",
    "mean = np.mean(spectrum[0])"
   ],
   "metadata": {
    "collapsed": false
   }
  },
  {
   "cell_type": "code",
   "execution_count": 3,
   "outputs": [],
   "source": [
    "def pls_variable_selection(X, y, max_comp):\n",
    "    # Define MSE array to be populated\n",
    "    mse = np.zeros((max_comp, X.shape[1]))\n",
    "\n",
    "    # Loop over the number of PLS components\n",
    "    for i in range(max_comp):\n",
    "\n",
    "        # Regression with specified number of components, using full spectrum\n",
    "        pls1 = PLSRegression(n_components=i + 1)\n",
    "        pls1.fit(X, y)\n",
    "\n",
    "        # Indices of sort spectra according to ascending absolute value of PLS coefficients\n",
    "        sorted_ind = np.argsort(np.abs(pls1.coef_[:, 0]))\n",
    "\n",
    "        # Sort spectra accordingly\n",
    "        Xc = X[:, sorted_ind]\n",
    "\n",
    "        # Discard one wavelength at a time of the sorted spectra,\n",
    "        # regress, and calculate the MSE cross-validation\n",
    "        for j in range(Xc.shape[1] - (i + 1)):\n",
    "            pls2 = PLSRegression(n_components=i + 1)\n",
    "            pls2.fit(Xc[:, j:], y)\n",
    "\n",
    "            y_cv = cross_val_predict(pls2, Xc[:, j:], y, cv=5)\n",
    "\n",
    "            mse[i, j] = mean_squared_error(y, y_cv)\n",
    "\n",
    "        comp = 100 * (i + 1) / (max_comp)\n",
    "        stdout.write(\"\\r%d%% completed\" % comp)\n",
    "        stdout.flush()\n",
    "    stdout.write(\"\\n\")\n",
    "\n",
    "    # # Calculate and print the position of minimum in MSE\n",
    "    mseminx, mseminy = np.where(mse == np.min(mse[np.nonzero(mse)]))\n",
    "\n",
    "    # print(\"Optimised number of PLS components: \", mseminx[0] + 1)\n",
    "    # print(\"Wavelengths to be discarded \", mseminy[0])\n",
    "    # print('Optimised MSE ', mse[mseminx, mseminy][0])\n",
    "    # stdout.write(\"\\n\")\n",
    "    # plt.imshow(mse, interpolation=None)\n",
    "    # plt.show()\n",
    "\n",
    "    # Calculate PLS with optimal components and export values\n",
    "    pls = PLSRegression(n_components=mseminx[0] + 1)\n",
    "    pls.fit(X, y)\n",
    "\n",
    "    sorted_ind = np.argsort(np.abs(pls.coef_[:, 0]))\n",
    "\n",
    "    Xc = X[:, sorted_ind]\n",
    "\n",
    "    return (Xc[:, mseminy[0]:], mseminx[0] + 1, mseminy[0], sorted_ind)\n",
    "\n",
    "def find_Best_Spectrum(X,y):\n",
    "    menor = len(X[0])\n",
    "    optimalPLSComponents = 1\n",
    "    optimalSpectrum = X\n",
    "    for i in range(1,15):\n",
    "        opt_Xc, ncomp, wav, sorted_ind = pls_variable_selection(X, y, i)\n",
    "        if wav < menor:\n",
    "            menor = wav\n",
    "            optimalPLSComponents = ncomp\n",
    "            optimalSpectrum = opt_Xc\n",
    "\n",
    "    return (optimalSpectrum,optimalPLSComponents)\n",
    "\n",
    "def optimalNumbersForKennardStoneMethod(X_train,y_train,X_test,y_test):\n",
    "    maior = 0\n",
    "    val_l = 1\n",
    "    for i in range(1,len(selectedSpectrum[0])):\n",
    "        overfit, score = kennardStonePLS(X_train, y_train, X_test, y_test, i)\n",
    "        if score > maior:\n",
    "           maior = score\n",
    "           val_l = i\n",
    "    return val_l\n",
    "\n",
    "\n",
    "def kennardStonePLS(X_train, y_train,X_test, y_test, n_components):\n",
    "    pls = PLSRegression(n_components=n_components)\n",
    "    pls.fit(X_train, y_train)\n",
    "\n",
    "    y_calib = pls.predict(X_train)\n",
    "    y_pred = pls.predict(X_test)\n",
    "\n",
    "    # metrics in prediction\n",
    "    rmse_p, mae_p, score_p = np.sqrt(mean_squared_error(y_test, y_pred)), mean_absolute_error(y_test, y_pred), r2_score(y_test, y_pred)\n",
    "    rmse_calib, mae_p, score_calib = np.sqrt(mean_squared_error(y_train, y_calib)), mean_absolute_error(y_train, y_calib), r2_score(\n",
    "        y_train, y_calib)\n",
    "\n",
    "    return (abs(score_calib - score_p), score_p)\n",
    "\n",
    "def findBestContamination(X, y):\n",
    "    score = 0\n",
    "    bestContamination = 0\n",
    "    bestXSpectrum = X\n",
    "    bestYSpectrum = y\n",
    "    optimal = 0\n",
    "    for i in range(30):\n",
    "        clf = QMCD(contamination=0.01 + (i / 100))\n",
    "        print(\"Contamination:\", 0.01 + (i / 100))\n",
    "\n",
    "        clf.fit(X, y)\n",
    "        outliers = clf.labels_\n",
    "\n",
    "        indexes = []\n",
    "\n",
    "        for k in range(len(outliers)):\n",
    "            if (outliers[k] == 1):\n",
    "                indexes.append(k)\n",
    "\n",
    "        X1 = np.delete(X, indexes, 0)\n",
    "        y1 = np.delete(y, indexes)\n",
    "\n",
    "        X_train, X_test, y_train, y_test = at.train_test_split(X1, y1, test_size=0.30)\n",
    "\n",
    "        opt = optimalNumbersForKennardStoneMethod(X_train, y_train, X_test, y_test)\n",
    "\n",
    "        overfit, newScore = kennardStonePLS(X_train, y_train, X_test, y_test, opt)\n",
    "        if (newScore > score and overfit < 0.03):\n",
    "            score = newScore\n",
    "            bestContamination = 1 + i\n",
    "            bestXSpectrum = X1\n",
    "            bestYSpectrum = y1\n",
    "            optimal = opt\n",
    "\n",
    "    return (bestXSpectrum,bestYSpectrum, bestContamination,optimal)\n",
    "def printKennardStonePLS(X_train, y_train,X_test, y_test, n_components):\n",
    "    pls = PLSRegression(n_components=n_components)\n",
    "    pls.fit(X_train, y_train)\n",
    "\n",
    "    y_calib = pls.predict(X_train)\n",
    "    y_pred = pls.predict(X_test)\n",
    "\n",
    "    # metrics in prediction\n",
    "    ## Calibration Metrics\n",
    "    rmse_calib, mae_calib, score_calib, sdc = np.sqrt(mean_squared_error(y_train, y_calib)), mean_absolute_error(\n",
    "        y_train, y_calib), r2_score(y_train, y_calib), np.std(y_train)\n",
    "    rpdc = sdc / rmse_calib\n",
    "    ## Validation Metrics\n",
    "    rmse_p, mae_p, score_p, sd = np.sqrt(mean_squared_error(y_test, y_pred)), mean_absolute_error(y_test,\n",
    "                                                                                                  y_pred), r2_score(\n",
    "        y_test, y_pred), np.std(y_test)\n",
    "    rpd = sd / rmse_p\n",
    "\n",
    "    print('R2 Calib: %5.3f' % score_calib)\n",
    "    print('R2 CV: %5.3f' % score_p)\n",
    "    print('MSE Calib: %5.3f' % rmse_calib)\n",
    "    print('MSE CV: %5.3f' % rmse_p)\n",
    "    print(\"MAE Calib: %5.3f\" % mae_calib)\n",
    "    print(\"MAE Valid: %5.3f\" % mae_p)\n",
    "    print(\"RPDC : %5.3f\" % rpdc)\n",
    "    print(\"RPD : %5.3f\" % rpd)\n",
    "\n",
    "    z = np.polyfit(y_test, y_pred, 1)\n",
    "    with plt.style.context(('ggplot')):\n",
    "        fig, ax = plt.subplots(figsize=(9, 5))\n",
    "        ax.scatter(y_pred, y_test, c='red', edgecolors='k')\n",
    "        ax.plot(z[1] + z[0] * y_test, y_test, c='blue', linewidth=1)\n",
    "        ax.plot(y_test, y_test, color='green', linewidth=1)\n",
    "        plt.title('$R^{2}$: ' + str(score_p))\n",
    "        plt.xlabel('Potassio Predito (ppm)')\n",
    "        plt.ylabel('Potassio Medido (ppm)')\n",
    "\n",
    "        plt.show()\n",
    "\n",
    "def snv(input_data):\n",
    "\n",
    "    # Define a new array and populate it with the corrected data\n",
    "    output_data = np.zeros_like(input_data)\n",
    "    for i in range(input_data.shape[0]):\n",
    "\n",
    "        # Apply correction\n",
    "        output_data[i,:] = (input_data[i,:] - np.mean(input_data[i,:])) / np.std(input_data[i,:])\n",
    "\n",
    "    return output_data"
   ],
   "metadata": {
    "collapsed": false
   }
  },
  {
   "cell_type": "code",
   "execution_count": 4,
   "outputs": [],
   "source": [
    "w = 17\n",
    "p = 2\n",
    "\n",
    "savitskyGolaySpectrum= savgol_filter(spectrum, w, polyorder=p, deriv=1)"
   ],
   "metadata": {
    "collapsed": false
   }
  },
  {
   "cell_type": "code",
   "execution_count": 5,
   "outputs": [],
   "source": [
    "SNVspectrum = snv(savitskyGolaySpectrum)"
   ],
   "metadata": {
    "collapsed": false
   }
  },
  {
   "cell_type": "code",
   "execution_count": 6,
   "outputs": [
    {
     "name": "stderr",
     "output_type": "stream",
     "text": [
      "C:\\Users\\vinic\\AppData\\Local\\Programs\\Python\\Python310\\lib\\site-packages\\sklearn\\cross_decomposition\\_pls.py:507: FutureWarning: The attribute `coef_` will be transposed in version 1.3 to be consistent with other linear models in scikit-learn. Currently, `coef_` has a shape of (n_features, n_targets) and in the future it will have a shape of (n_targets, n_features).\n",
      "  warnings.warn(\n"
     ]
    },
    {
     "name": "stdout",
     "output_type": "stream",
     "text": [
      "100% completed\n"
     ]
    },
    {
     "name": "stderr",
     "output_type": "stream",
     "text": [
      "C:\\Users\\vinic\\AppData\\Local\\Programs\\Python\\Python310\\lib\\site-packages\\sklearn\\cross_decomposition\\_pls.py:507: FutureWarning: The attribute `coef_` will be transposed in version 1.3 to be consistent with other linear models in scikit-learn. Currently, `coef_` has a shape of (n_features, n_targets) and in the future it will have a shape of (n_targets, n_features).\n",
      "  warnings.warn(\n",
      "C:\\Users\\vinic\\AppData\\Local\\Programs\\Python\\Python310\\lib\\site-packages\\sklearn\\cross_decomposition\\_pls.py:507: FutureWarning: The attribute `coef_` will be transposed in version 1.3 to be consistent with other linear models in scikit-learn. Currently, `coef_` has a shape of (n_features, n_targets) and in the future it will have a shape of (n_targets, n_features).\n",
      "  warnings.warn(\n"
     ]
    },
    {
     "name": "stdout",
     "output_type": "stream",
     "text": [
      "50% completed"
     ]
    },
    {
     "name": "stderr",
     "output_type": "stream",
     "text": [
      "C:\\Users\\vinic\\AppData\\Local\\Programs\\Python\\Python310\\lib\\site-packages\\sklearn\\cross_decomposition\\_pls.py:507: FutureWarning: The attribute `coef_` will be transposed in version 1.3 to be consistent with other linear models in scikit-learn. Currently, `coef_` has a shape of (n_features, n_targets) and in the future it will have a shape of (n_targets, n_features).\n",
      "  warnings.warn(\n"
     ]
    },
    {
     "name": "stdout",
     "output_type": "stream",
     "text": [
      "100% completed\n"
     ]
    },
    {
     "name": "stderr",
     "output_type": "stream",
     "text": [
      "C:\\Users\\vinic\\AppData\\Local\\Programs\\Python\\Python310\\lib\\site-packages\\sklearn\\cross_decomposition\\_pls.py:507: FutureWarning: The attribute `coef_` will be transposed in version 1.3 to be consistent with other linear models in scikit-learn. Currently, `coef_` has a shape of (n_features, n_targets) and in the future it will have a shape of (n_targets, n_features).\n",
      "  warnings.warn(\n",
      "C:\\Users\\vinic\\AppData\\Local\\Programs\\Python\\Python310\\lib\\site-packages\\sklearn\\cross_decomposition\\_pls.py:507: FutureWarning: The attribute `coef_` will be transposed in version 1.3 to be consistent with other linear models in scikit-learn. Currently, `coef_` has a shape of (n_features, n_targets) and in the future it will have a shape of (n_targets, n_features).\n",
      "  warnings.warn(\n"
     ]
    },
    {
     "name": "stdout",
     "output_type": "stream",
     "text": [
      "33% completed"
     ]
    },
    {
     "name": "stderr",
     "output_type": "stream",
     "text": [
      "C:\\Users\\vinic\\AppData\\Local\\Programs\\Python\\Python310\\lib\\site-packages\\sklearn\\cross_decomposition\\_pls.py:507: FutureWarning: The attribute `coef_` will be transposed in version 1.3 to be consistent with other linear models in scikit-learn. Currently, `coef_` has a shape of (n_features, n_targets) and in the future it will have a shape of (n_targets, n_features).\n",
      "  warnings.warn(\n"
     ]
    },
    {
     "name": "stdout",
     "output_type": "stream",
     "text": [
      "66% completed"
     ]
    },
    {
     "name": "stderr",
     "output_type": "stream",
     "text": [
      "C:\\Users\\vinic\\AppData\\Local\\Programs\\Python\\Python310\\lib\\site-packages\\sklearn\\cross_decomposition\\_pls.py:507: FutureWarning: The attribute `coef_` will be transposed in version 1.3 to be consistent with other linear models in scikit-learn. Currently, `coef_` has a shape of (n_features, n_targets) and in the future it will have a shape of (n_targets, n_features).\n",
      "  warnings.warn(\n"
     ]
    },
    {
     "name": "stdout",
     "output_type": "stream",
     "text": [
      "100% completed\n"
     ]
    },
    {
     "name": "stderr",
     "output_type": "stream",
     "text": [
      "C:\\Users\\vinic\\AppData\\Local\\Programs\\Python\\Python310\\lib\\site-packages\\sklearn\\cross_decomposition\\_pls.py:507: FutureWarning: The attribute `coef_` will be transposed in version 1.3 to be consistent with other linear models in scikit-learn. Currently, `coef_` has a shape of (n_features, n_targets) and in the future it will have a shape of (n_targets, n_features).\n",
      "  warnings.warn(\n",
      "C:\\Users\\vinic\\AppData\\Local\\Programs\\Python\\Python310\\lib\\site-packages\\sklearn\\cross_decomposition\\_pls.py:507: FutureWarning: The attribute `coef_` will be transposed in version 1.3 to be consistent with other linear models in scikit-learn. Currently, `coef_` has a shape of (n_features, n_targets) and in the future it will have a shape of (n_targets, n_features).\n",
      "  warnings.warn(\n"
     ]
    },
    {
     "name": "stdout",
     "output_type": "stream",
     "text": [
      "25% completed"
     ]
    },
    {
     "name": "stderr",
     "output_type": "stream",
     "text": [
      "C:\\Users\\vinic\\AppData\\Local\\Programs\\Python\\Python310\\lib\\site-packages\\sklearn\\cross_decomposition\\_pls.py:507: FutureWarning: The attribute `coef_` will be transposed in version 1.3 to be consistent with other linear models in scikit-learn. Currently, `coef_` has a shape of (n_features, n_targets) and in the future it will have a shape of (n_targets, n_features).\n",
      "  warnings.warn(\n"
     ]
    },
    {
     "name": "stdout",
     "output_type": "stream",
     "text": [
      "50% completed"
     ]
    },
    {
     "name": "stderr",
     "output_type": "stream",
     "text": [
      "C:\\Users\\vinic\\AppData\\Local\\Programs\\Python\\Python310\\lib\\site-packages\\sklearn\\cross_decomposition\\_pls.py:507: FutureWarning: The attribute `coef_` will be transposed in version 1.3 to be consistent with other linear models in scikit-learn. Currently, `coef_` has a shape of (n_features, n_targets) and in the future it will have a shape of (n_targets, n_features).\n",
      "  warnings.warn(\n"
     ]
    },
    {
     "name": "stdout",
     "output_type": "stream",
     "text": [
      "75% completed"
     ]
    },
    {
     "name": "stderr",
     "output_type": "stream",
     "text": [
      "C:\\Users\\vinic\\AppData\\Local\\Programs\\Python\\Python310\\lib\\site-packages\\sklearn\\cross_decomposition\\_pls.py:507: FutureWarning: The attribute `coef_` will be transposed in version 1.3 to be consistent with other linear models in scikit-learn. Currently, `coef_` has a shape of (n_features, n_targets) and in the future it will have a shape of (n_targets, n_features).\n",
      "  warnings.warn(\n"
     ]
    },
    {
     "name": "stdout",
     "output_type": "stream",
     "text": [
      "100% completed\n"
     ]
    },
    {
     "name": "stderr",
     "output_type": "stream",
     "text": [
      "C:\\Users\\vinic\\AppData\\Local\\Programs\\Python\\Python310\\lib\\site-packages\\sklearn\\cross_decomposition\\_pls.py:507: FutureWarning: The attribute `coef_` will be transposed in version 1.3 to be consistent with other linear models in scikit-learn. Currently, `coef_` has a shape of (n_features, n_targets) and in the future it will have a shape of (n_targets, n_features).\n",
      "  warnings.warn(\n",
      "C:\\Users\\vinic\\AppData\\Local\\Programs\\Python\\Python310\\lib\\site-packages\\sklearn\\cross_decomposition\\_pls.py:507: FutureWarning: The attribute `coef_` will be transposed in version 1.3 to be consistent with other linear models in scikit-learn. Currently, `coef_` has a shape of (n_features, n_targets) and in the future it will have a shape of (n_targets, n_features).\n",
      "  warnings.warn(\n"
     ]
    },
    {
     "name": "stdout",
     "output_type": "stream",
     "text": [
      "20% completed"
     ]
    },
    {
     "name": "stderr",
     "output_type": "stream",
     "text": [
      "C:\\Users\\vinic\\AppData\\Local\\Programs\\Python\\Python310\\lib\\site-packages\\sklearn\\cross_decomposition\\_pls.py:507: FutureWarning: The attribute `coef_` will be transposed in version 1.3 to be consistent with other linear models in scikit-learn. Currently, `coef_` has a shape of (n_features, n_targets) and in the future it will have a shape of (n_targets, n_features).\n",
      "  warnings.warn(\n"
     ]
    },
    {
     "name": "stdout",
     "output_type": "stream",
     "text": [
      "40% completed"
     ]
    },
    {
     "name": "stderr",
     "output_type": "stream",
     "text": [
      "C:\\Users\\vinic\\AppData\\Local\\Programs\\Python\\Python310\\lib\\site-packages\\sklearn\\cross_decomposition\\_pls.py:507: FutureWarning: The attribute `coef_` will be transposed in version 1.3 to be consistent with other linear models in scikit-learn. Currently, `coef_` has a shape of (n_features, n_targets) and in the future it will have a shape of (n_targets, n_features).\n",
      "  warnings.warn(\n"
     ]
    },
    {
     "name": "stdout",
     "output_type": "stream",
     "text": [
      "60% completed"
     ]
    },
    {
     "name": "stderr",
     "output_type": "stream",
     "text": [
      "C:\\Users\\vinic\\AppData\\Local\\Programs\\Python\\Python310\\lib\\site-packages\\sklearn\\cross_decomposition\\_pls.py:507: FutureWarning: The attribute `coef_` will be transposed in version 1.3 to be consistent with other linear models in scikit-learn. Currently, `coef_` has a shape of (n_features, n_targets) and in the future it will have a shape of (n_targets, n_features).\n",
      "  warnings.warn(\n"
     ]
    },
    {
     "name": "stdout",
     "output_type": "stream",
     "text": [
      "80% completed"
     ]
    },
    {
     "name": "stderr",
     "output_type": "stream",
     "text": [
      "C:\\Users\\vinic\\AppData\\Local\\Programs\\Python\\Python310\\lib\\site-packages\\sklearn\\cross_decomposition\\_pls.py:507: FutureWarning: The attribute `coef_` will be transposed in version 1.3 to be consistent with other linear models in scikit-learn. Currently, `coef_` has a shape of (n_features, n_targets) and in the future it will have a shape of (n_targets, n_features).\n",
      "  warnings.warn(\n"
     ]
    },
    {
     "name": "stdout",
     "output_type": "stream",
     "text": [
      "100% completed\n"
     ]
    },
    {
     "name": "stderr",
     "output_type": "stream",
     "text": [
      "C:\\Users\\vinic\\AppData\\Local\\Programs\\Python\\Python310\\lib\\site-packages\\sklearn\\cross_decomposition\\_pls.py:507: FutureWarning: The attribute `coef_` will be transposed in version 1.3 to be consistent with other linear models in scikit-learn. Currently, `coef_` has a shape of (n_features, n_targets) and in the future it will have a shape of (n_targets, n_features).\n",
      "  warnings.warn(\n",
      "C:\\Users\\vinic\\AppData\\Local\\Programs\\Python\\Python310\\lib\\site-packages\\sklearn\\cross_decomposition\\_pls.py:507: FutureWarning: The attribute `coef_` will be transposed in version 1.3 to be consistent with other linear models in scikit-learn. Currently, `coef_` has a shape of (n_features, n_targets) and in the future it will have a shape of (n_targets, n_features).\n",
      "  warnings.warn(\n"
     ]
    },
    {
     "name": "stdout",
     "output_type": "stream",
     "text": [
      "16% completed"
     ]
    },
    {
     "name": "stderr",
     "output_type": "stream",
     "text": [
      "C:\\Users\\vinic\\AppData\\Local\\Programs\\Python\\Python310\\lib\\site-packages\\sklearn\\cross_decomposition\\_pls.py:507: FutureWarning: The attribute `coef_` will be transposed in version 1.3 to be consistent with other linear models in scikit-learn. Currently, `coef_` has a shape of (n_features, n_targets) and in the future it will have a shape of (n_targets, n_features).\n",
      "  warnings.warn(\n"
     ]
    },
    {
     "name": "stdout",
     "output_type": "stream",
     "text": [
      "33% completed"
     ]
    },
    {
     "name": "stderr",
     "output_type": "stream",
     "text": [
      "C:\\Users\\vinic\\AppData\\Local\\Programs\\Python\\Python310\\lib\\site-packages\\sklearn\\cross_decomposition\\_pls.py:507: FutureWarning: The attribute `coef_` will be transposed in version 1.3 to be consistent with other linear models in scikit-learn. Currently, `coef_` has a shape of (n_features, n_targets) and in the future it will have a shape of (n_targets, n_features).\n",
      "  warnings.warn(\n"
     ]
    },
    {
     "name": "stdout",
     "output_type": "stream",
     "text": [
      "50% completed"
     ]
    },
    {
     "name": "stderr",
     "output_type": "stream",
     "text": [
      "C:\\Users\\vinic\\AppData\\Local\\Programs\\Python\\Python310\\lib\\site-packages\\sklearn\\cross_decomposition\\_pls.py:507: FutureWarning: The attribute `coef_` will be transposed in version 1.3 to be consistent with other linear models in scikit-learn. Currently, `coef_` has a shape of (n_features, n_targets) and in the future it will have a shape of (n_targets, n_features).\n",
      "  warnings.warn(\n"
     ]
    },
    {
     "name": "stdout",
     "output_type": "stream",
     "text": [
      "66% completed"
     ]
    },
    {
     "name": "stderr",
     "output_type": "stream",
     "text": [
      "C:\\Users\\vinic\\AppData\\Local\\Programs\\Python\\Python310\\lib\\site-packages\\sklearn\\cross_decomposition\\_pls.py:507: FutureWarning: The attribute `coef_` will be transposed in version 1.3 to be consistent with other linear models in scikit-learn. Currently, `coef_` has a shape of (n_features, n_targets) and in the future it will have a shape of (n_targets, n_features).\n",
      "  warnings.warn(\n"
     ]
    },
    {
     "name": "stdout",
     "output_type": "stream",
     "text": [
      "83% completed"
     ]
    },
    {
     "name": "stderr",
     "output_type": "stream",
     "text": [
      "C:\\Users\\vinic\\AppData\\Local\\Programs\\Python\\Python310\\lib\\site-packages\\sklearn\\cross_decomposition\\_pls.py:507: FutureWarning: The attribute `coef_` will be transposed in version 1.3 to be consistent with other linear models in scikit-learn. Currently, `coef_` has a shape of (n_features, n_targets) and in the future it will have a shape of (n_targets, n_features).\n",
      "  warnings.warn(\n"
     ]
    },
    {
     "name": "stdout",
     "output_type": "stream",
     "text": [
      "100% completed\n"
     ]
    },
    {
     "name": "stderr",
     "output_type": "stream",
     "text": [
      "C:\\Users\\vinic\\AppData\\Local\\Programs\\Python\\Python310\\lib\\site-packages\\sklearn\\cross_decomposition\\_pls.py:507: FutureWarning: The attribute `coef_` will be transposed in version 1.3 to be consistent with other linear models in scikit-learn. Currently, `coef_` has a shape of (n_features, n_targets) and in the future it will have a shape of (n_targets, n_features).\n",
      "  warnings.warn(\n",
      "C:\\Users\\vinic\\AppData\\Local\\Programs\\Python\\Python310\\lib\\site-packages\\sklearn\\cross_decomposition\\_pls.py:507: FutureWarning: The attribute `coef_` will be transposed in version 1.3 to be consistent with other linear models in scikit-learn. Currently, `coef_` has a shape of (n_features, n_targets) and in the future it will have a shape of (n_targets, n_features).\n",
      "  warnings.warn(\n"
     ]
    },
    {
     "name": "stdout",
     "output_type": "stream",
     "text": [
      "14% completed"
     ]
    },
    {
     "name": "stderr",
     "output_type": "stream",
     "text": [
      "C:\\Users\\vinic\\AppData\\Local\\Programs\\Python\\Python310\\lib\\site-packages\\sklearn\\cross_decomposition\\_pls.py:507: FutureWarning: The attribute `coef_` will be transposed in version 1.3 to be consistent with other linear models in scikit-learn. Currently, `coef_` has a shape of (n_features, n_targets) and in the future it will have a shape of (n_targets, n_features).\n",
      "  warnings.warn(\n"
     ]
    },
    {
     "name": "stdout",
     "output_type": "stream",
     "text": [
      "28% completed"
     ]
    },
    {
     "name": "stderr",
     "output_type": "stream",
     "text": [
      "C:\\Users\\vinic\\AppData\\Local\\Programs\\Python\\Python310\\lib\\site-packages\\sklearn\\cross_decomposition\\_pls.py:507: FutureWarning: The attribute `coef_` will be transposed in version 1.3 to be consistent with other linear models in scikit-learn. Currently, `coef_` has a shape of (n_features, n_targets) and in the future it will have a shape of (n_targets, n_features).\n",
      "  warnings.warn(\n"
     ]
    },
    {
     "name": "stdout",
     "output_type": "stream",
     "text": [
      "42% completed"
     ]
    },
    {
     "name": "stderr",
     "output_type": "stream",
     "text": [
      "C:\\Users\\vinic\\AppData\\Local\\Programs\\Python\\Python310\\lib\\site-packages\\sklearn\\cross_decomposition\\_pls.py:507: FutureWarning: The attribute `coef_` will be transposed in version 1.3 to be consistent with other linear models in scikit-learn. Currently, `coef_` has a shape of (n_features, n_targets) and in the future it will have a shape of (n_targets, n_features).\n",
      "  warnings.warn(\n"
     ]
    },
    {
     "name": "stdout",
     "output_type": "stream",
     "text": [
      "57% completed"
     ]
    },
    {
     "name": "stderr",
     "output_type": "stream",
     "text": [
      "C:\\Users\\vinic\\AppData\\Local\\Programs\\Python\\Python310\\lib\\site-packages\\sklearn\\cross_decomposition\\_pls.py:507: FutureWarning: The attribute `coef_` will be transposed in version 1.3 to be consistent with other linear models in scikit-learn. Currently, `coef_` has a shape of (n_features, n_targets) and in the future it will have a shape of (n_targets, n_features).\n",
      "  warnings.warn(\n"
     ]
    },
    {
     "name": "stdout",
     "output_type": "stream",
     "text": [
      "71% completed"
     ]
    },
    {
     "name": "stderr",
     "output_type": "stream",
     "text": [
      "C:\\Users\\vinic\\AppData\\Local\\Programs\\Python\\Python310\\lib\\site-packages\\sklearn\\cross_decomposition\\_pls.py:507: FutureWarning: The attribute `coef_` will be transposed in version 1.3 to be consistent with other linear models in scikit-learn. Currently, `coef_` has a shape of (n_features, n_targets) and in the future it will have a shape of (n_targets, n_features).\n",
      "  warnings.warn(\n"
     ]
    },
    {
     "name": "stdout",
     "output_type": "stream",
     "text": [
      "85% completed"
     ]
    },
    {
     "name": "stderr",
     "output_type": "stream",
     "text": [
      "C:\\Users\\vinic\\AppData\\Local\\Programs\\Python\\Python310\\lib\\site-packages\\sklearn\\cross_decomposition\\_pls.py:507: FutureWarning: The attribute `coef_` will be transposed in version 1.3 to be consistent with other linear models in scikit-learn. Currently, `coef_` has a shape of (n_features, n_targets) and in the future it will have a shape of (n_targets, n_features).\n",
      "  warnings.warn(\n"
     ]
    },
    {
     "name": "stdout",
     "output_type": "stream",
     "text": [
      "100% completed\n"
     ]
    },
    {
     "name": "stderr",
     "output_type": "stream",
     "text": [
      "C:\\Users\\vinic\\AppData\\Local\\Programs\\Python\\Python310\\lib\\site-packages\\sklearn\\cross_decomposition\\_pls.py:507: FutureWarning: The attribute `coef_` will be transposed in version 1.3 to be consistent with other linear models in scikit-learn. Currently, `coef_` has a shape of (n_features, n_targets) and in the future it will have a shape of (n_targets, n_features).\n",
      "  warnings.warn(\n",
      "C:\\Users\\vinic\\AppData\\Local\\Programs\\Python\\Python310\\lib\\site-packages\\sklearn\\cross_decomposition\\_pls.py:507: FutureWarning: The attribute `coef_` will be transposed in version 1.3 to be consistent with other linear models in scikit-learn. Currently, `coef_` has a shape of (n_features, n_targets) and in the future it will have a shape of (n_targets, n_features).\n",
      "  warnings.warn(\n"
     ]
    },
    {
     "name": "stdout",
     "output_type": "stream",
     "text": [
      "12% completed"
     ]
    },
    {
     "name": "stderr",
     "output_type": "stream",
     "text": [
      "C:\\Users\\vinic\\AppData\\Local\\Programs\\Python\\Python310\\lib\\site-packages\\sklearn\\cross_decomposition\\_pls.py:507: FutureWarning: The attribute `coef_` will be transposed in version 1.3 to be consistent with other linear models in scikit-learn. Currently, `coef_` has a shape of (n_features, n_targets) and in the future it will have a shape of (n_targets, n_features).\n",
      "  warnings.warn(\n"
     ]
    },
    {
     "name": "stdout",
     "output_type": "stream",
     "text": [
      "25% completed"
     ]
    },
    {
     "name": "stderr",
     "output_type": "stream",
     "text": [
      "C:\\Users\\vinic\\AppData\\Local\\Programs\\Python\\Python310\\lib\\site-packages\\sklearn\\cross_decomposition\\_pls.py:507: FutureWarning: The attribute `coef_` will be transposed in version 1.3 to be consistent with other linear models in scikit-learn. Currently, `coef_` has a shape of (n_features, n_targets) and in the future it will have a shape of (n_targets, n_features).\n",
      "  warnings.warn(\n"
     ]
    },
    {
     "name": "stdout",
     "output_type": "stream",
     "text": [
      "37% completed"
     ]
    },
    {
     "name": "stderr",
     "output_type": "stream",
     "text": [
      "C:\\Users\\vinic\\AppData\\Local\\Programs\\Python\\Python310\\lib\\site-packages\\sklearn\\cross_decomposition\\_pls.py:507: FutureWarning: The attribute `coef_` will be transposed in version 1.3 to be consistent with other linear models in scikit-learn. Currently, `coef_` has a shape of (n_features, n_targets) and in the future it will have a shape of (n_targets, n_features).\n",
      "  warnings.warn(\n"
     ]
    },
    {
     "name": "stdout",
     "output_type": "stream",
     "text": [
      "50% completed"
     ]
    },
    {
     "name": "stderr",
     "output_type": "stream",
     "text": [
      "C:\\Users\\vinic\\AppData\\Local\\Programs\\Python\\Python310\\lib\\site-packages\\sklearn\\cross_decomposition\\_pls.py:507: FutureWarning: The attribute `coef_` will be transposed in version 1.3 to be consistent with other linear models in scikit-learn. Currently, `coef_` has a shape of (n_features, n_targets) and in the future it will have a shape of (n_targets, n_features).\n",
      "  warnings.warn(\n"
     ]
    },
    {
     "name": "stdout",
     "output_type": "stream",
     "text": [
      "62% completed"
     ]
    },
    {
     "name": "stderr",
     "output_type": "stream",
     "text": [
      "C:\\Users\\vinic\\AppData\\Local\\Programs\\Python\\Python310\\lib\\site-packages\\sklearn\\cross_decomposition\\_pls.py:507: FutureWarning: The attribute `coef_` will be transposed in version 1.3 to be consistent with other linear models in scikit-learn. Currently, `coef_` has a shape of (n_features, n_targets) and in the future it will have a shape of (n_targets, n_features).\n",
      "  warnings.warn(\n"
     ]
    },
    {
     "name": "stdout",
     "output_type": "stream",
     "text": [
      "75% completed"
     ]
    },
    {
     "name": "stderr",
     "output_type": "stream",
     "text": [
      "C:\\Users\\vinic\\AppData\\Local\\Programs\\Python\\Python310\\lib\\site-packages\\sklearn\\cross_decomposition\\_pls.py:507: FutureWarning: The attribute `coef_` will be transposed in version 1.3 to be consistent with other linear models in scikit-learn. Currently, `coef_` has a shape of (n_features, n_targets) and in the future it will have a shape of (n_targets, n_features).\n",
      "  warnings.warn(\n"
     ]
    },
    {
     "name": "stdout",
     "output_type": "stream",
     "text": [
      "87% completed"
     ]
    },
    {
     "name": "stderr",
     "output_type": "stream",
     "text": [
      "C:\\Users\\vinic\\AppData\\Local\\Programs\\Python\\Python310\\lib\\site-packages\\sklearn\\cross_decomposition\\_pls.py:507: FutureWarning: The attribute `coef_` will be transposed in version 1.3 to be consistent with other linear models in scikit-learn. Currently, `coef_` has a shape of (n_features, n_targets) and in the future it will have a shape of (n_targets, n_features).\n",
      "  warnings.warn(\n"
     ]
    },
    {
     "name": "stdout",
     "output_type": "stream",
     "text": [
      "100% completed\n"
     ]
    },
    {
     "name": "stderr",
     "output_type": "stream",
     "text": [
      "C:\\Users\\vinic\\AppData\\Local\\Programs\\Python\\Python310\\lib\\site-packages\\sklearn\\cross_decomposition\\_pls.py:507: FutureWarning: The attribute `coef_` will be transposed in version 1.3 to be consistent with other linear models in scikit-learn. Currently, `coef_` has a shape of (n_features, n_targets) and in the future it will have a shape of (n_targets, n_features).\n",
      "  warnings.warn(\n",
      "C:\\Users\\vinic\\AppData\\Local\\Programs\\Python\\Python310\\lib\\site-packages\\sklearn\\cross_decomposition\\_pls.py:507: FutureWarning: The attribute `coef_` will be transposed in version 1.3 to be consistent with other linear models in scikit-learn. Currently, `coef_` has a shape of (n_features, n_targets) and in the future it will have a shape of (n_targets, n_features).\n",
      "  warnings.warn(\n"
     ]
    },
    {
     "name": "stdout",
     "output_type": "stream",
     "text": [
      "11% completed"
     ]
    },
    {
     "name": "stderr",
     "output_type": "stream",
     "text": [
      "C:\\Users\\vinic\\AppData\\Local\\Programs\\Python\\Python310\\lib\\site-packages\\sklearn\\cross_decomposition\\_pls.py:507: FutureWarning: The attribute `coef_` will be transposed in version 1.3 to be consistent with other linear models in scikit-learn. Currently, `coef_` has a shape of (n_features, n_targets) and in the future it will have a shape of (n_targets, n_features).\n",
      "  warnings.warn(\n"
     ]
    },
    {
     "name": "stdout",
     "output_type": "stream",
     "text": [
      "22% completed"
     ]
    },
    {
     "name": "stderr",
     "output_type": "stream",
     "text": [
      "C:\\Users\\vinic\\AppData\\Local\\Programs\\Python\\Python310\\lib\\site-packages\\sklearn\\cross_decomposition\\_pls.py:507: FutureWarning: The attribute `coef_` will be transposed in version 1.3 to be consistent with other linear models in scikit-learn. Currently, `coef_` has a shape of (n_features, n_targets) and in the future it will have a shape of (n_targets, n_features).\n",
      "  warnings.warn(\n"
     ]
    },
    {
     "name": "stdout",
     "output_type": "stream",
     "text": [
      "33% completed"
     ]
    },
    {
     "name": "stderr",
     "output_type": "stream",
     "text": [
      "C:\\Users\\vinic\\AppData\\Local\\Programs\\Python\\Python310\\lib\\site-packages\\sklearn\\cross_decomposition\\_pls.py:507: FutureWarning: The attribute `coef_` will be transposed in version 1.3 to be consistent with other linear models in scikit-learn. Currently, `coef_` has a shape of (n_features, n_targets) and in the future it will have a shape of (n_targets, n_features).\n",
      "  warnings.warn(\n"
     ]
    },
    {
     "name": "stdout",
     "output_type": "stream",
     "text": [
      "44% completed"
     ]
    },
    {
     "name": "stderr",
     "output_type": "stream",
     "text": [
      "C:\\Users\\vinic\\AppData\\Local\\Programs\\Python\\Python310\\lib\\site-packages\\sklearn\\cross_decomposition\\_pls.py:507: FutureWarning: The attribute `coef_` will be transposed in version 1.3 to be consistent with other linear models in scikit-learn. Currently, `coef_` has a shape of (n_features, n_targets) and in the future it will have a shape of (n_targets, n_features).\n",
      "  warnings.warn(\n"
     ]
    },
    {
     "name": "stdout",
     "output_type": "stream",
     "text": [
      "55% completed"
     ]
    },
    {
     "name": "stderr",
     "output_type": "stream",
     "text": [
      "C:\\Users\\vinic\\AppData\\Local\\Programs\\Python\\Python310\\lib\\site-packages\\sklearn\\cross_decomposition\\_pls.py:507: FutureWarning: The attribute `coef_` will be transposed in version 1.3 to be consistent with other linear models in scikit-learn. Currently, `coef_` has a shape of (n_features, n_targets) and in the future it will have a shape of (n_targets, n_features).\n",
      "  warnings.warn(\n"
     ]
    },
    {
     "name": "stdout",
     "output_type": "stream",
     "text": [
      "66% completed"
     ]
    },
    {
     "name": "stderr",
     "output_type": "stream",
     "text": [
      "C:\\Users\\vinic\\AppData\\Local\\Programs\\Python\\Python310\\lib\\site-packages\\sklearn\\cross_decomposition\\_pls.py:507: FutureWarning: The attribute `coef_` will be transposed in version 1.3 to be consistent with other linear models in scikit-learn. Currently, `coef_` has a shape of (n_features, n_targets) and in the future it will have a shape of (n_targets, n_features).\n",
      "  warnings.warn(\n"
     ]
    },
    {
     "name": "stdout",
     "output_type": "stream",
     "text": [
      "77% completed"
     ]
    },
    {
     "name": "stderr",
     "output_type": "stream",
     "text": [
      "C:\\Users\\vinic\\AppData\\Local\\Programs\\Python\\Python310\\lib\\site-packages\\sklearn\\cross_decomposition\\_pls.py:507: FutureWarning: The attribute `coef_` will be transposed in version 1.3 to be consistent with other linear models in scikit-learn. Currently, `coef_` has a shape of (n_features, n_targets) and in the future it will have a shape of (n_targets, n_features).\n",
      "  warnings.warn(\n"
     ]
    },
    {
     "name": "stdout",
     "output_type": "stream",
     "text": [
      "88% completed"
     ]
    },
    {
     "name": "stderr",
     "output_type": "stream",
     "text": [
      "C:\\Users\\vinic\\AppData\\Local\\Programs\\Python\\Python310\\lib\\site-packages\\sklearn\\cross_decomposition\\_pls.py:507: FutureWarning: The attribute `coef_` will be transposed in version 1.3 to be consistent with other linear models in scikit-learn. Currently, `coef_` has a shape of (n_features, n_targets) and in the future it will have a shape of (n_targets, n_features).\n",
      "  warnings.warn(\n"
     ]
    },
    {
     "name": "stdout",
     "output_type": "stream",
     "text": [
      "100% completed\n"
     ]
    },
    {
     "name": "stderr",
     "output_type": "stream",
     "text": [
      "C:\\Users\\vinic\\AppData\\Local\\Programs\\Python\\Python310\\lib\\site-packages\\sklearn\\cross_decomposition\\_pls.py:507: FutureWarning: The attribute `coef_` will be transposed in version 1.3 to be consistent with other linear models in scikit-learn. Currently, `coef_` has a shape of (n_features, n_targets) and in the future it will have a shape of (n_targets, n_features).\n",
      "  warnings.warn(\n",
      "C:\\Users\\vinic\\AppData\\Local\\Programs\\Python\\Python310\\lib\\site-packages\\sklearn\\cross_decomposition\\_pls.py:507: FutureWarning: The attribute `coef_` will be transposed in version 1.3 to be consistent with other linear models in scikit-learn. Currently, `coef_` has a shape of (n_features, n_targets) and in the future it will have a shape of (n_targets, n_features).\n",
      "  warnings.warn(\n"
     ]
    },
    {
     "name": "stdout",
     "output_type": "stream",
     "text": [
      "10% completed"
     ]
    },
    {
     "name": "stderr",
     "output_type": "stream",
     "text": [
      "C:\\Users\\vinic\\AppData\\Local\\Programs\\Python\\Python310\\lib\\site-packages\\sklearn\\cross_decomposition\\_pls.py:507: FutureWarning: The attribute `coef_` will be transposed in version 1.3 to be consistent with other linear models in scikit-learn. Currently, `coef_` has a shape of (n_features, n_targets) and in the future it will have a shape of (n_targets, n_features).\n",
      "  warnings.warn(\n"
     ]
    },
    {
     "name": "stdout",
     "output_type": "stream",
     "text": [
      "20% completed"
     ]
    },
    {
     "name": "stderr",
     "output_type": "stream",
     "text": [
      "C:\\Users\\vinic\\AppData\\Local\\Programs\\Python\\Python310\\lib\\site-packages\\sklearn\\cross_decomposition\\_pls.py:507: FutureWarning: The attribute `coef_` will be transposed in version 1.3 to be consistent with other linear models in scikit-learn. Currently, `coef_` has a shape of (n_features, n_targets) and in the future it will have a shape of (n_targets, n_features).\n",
      "  warnings.warn(\n"
     ]
    },
    {
     "name": "stdout",
     "output_type": "stream",
     "text": [
      "30% completed"
     ]
    },
    {
     "name": "stderr",
     "output_type": "stream",
     "text": [
      "C:\\Users\\vinic\\AppData\\Local\\Programs\\Python\\Python310\\lib\\site-packages\\sklearn\\cross_decomposition\\_pls.py:507: FutureWarning: The attribute `coef_` will be transposed in version 1.3 to be consistent with other linear models in scikit-learn. Currently, `coef_` has a shape of (n_features, n_targets) and in the future it will have a shape of (n_targets, n_features).\n",
      "  warnings.warn(\n"
     ]
    },
    {
     "name": "stdout",
     "output_type": "stream",
     "text": [
      "40% completed"
     ]
    },
    {
     "name": "stderr",
     "output_type": "stream",
     "text": [
      "C:\\Users\\vinic\\AppData\\Local\\Programs\\Python\\Python310\\lib\\site-packages\\sklearn\\cross_decomposition\\_pls.py:507: FutureWarning: The attribute `coef_` will be transposed in version 1.3 to be consistent with other linear models in scikit-learn. Currently, `coef_` has a shape of (n_features, n_targets) and in the future it will have a shape of (n_targets, n_features).\n",
      "  warnings.warn(\n"
     ]
    },
    {
     "name": "stdout",
     "output_type": "stream",
     "text": [
      "50% completed"
     ]
    },
    {
     "name": "stderr",
     "output_type": "stream",
     "text": [
      "C:\\Users\\vinic\\AppData\\Local\\Programs\\Python\\Python310\\lib\\site-packages\\sklearn\\cross_decomposition\\_pls.py:507: FutureWarning: The attribute `coef_` will be transposed in version 1.3 to be consistent with other linear models in scikit-learn. Currently, `coef_` has a shape of (n_features, n_targets) and in the future it will have a shape of (n_targets, n_features).\n",
      "  warnings.warn(\n"
     ]
    },
    {
     "name": "stdout",
     "output_type": "stream",
     "text": [
      "60% completed"
     ]
    },
    {
     "name": "stderr",
     "output_type": "stream",
     "text": [
      "C:\\Users\\vinic\\AppData\\Local\\Programs\\Python\\Python310\\lib\\site-packages\\sklearn\\cross_decomposition\\_pls.py:507: FutureWarning: The attribute `coef_` will be transposed in version 1.3 to be consistent with other linear models in scikit-learn. Currently, `coef_` has a shape of (n_features, n_targets) and in the future it will have a shape of (n_targets, n_features).\n",
      "  warnings.warn(\n"
     ]
    },
    {
     "name": "stdout",
     "output_type": "stream",
     "text": [
      "70% completed"
     ]
    },
    {
     "name": "stderr",
     "output_type": "stream",
     "text": [
      "C:\\Users\\vinic\\AppData\\Local\\Programs\\Python\\Python310\\lib\\site-packages\\sklearn\\cross_decomposition\\_pls.py:507: FutureWarning: The attribute `coef_` will be transposed in version 1.3 to be consistent with other linear models in scikit-learn. Currently, `coef_` has a shape of (n_features, n_targets) and in the future it will have a shape of (n_targets, n_features).\n",
      "  warnings.warn(\n"
     ]
    },
    {
     "name": "stdout",
     "output_type": "stream",
     "text": [
      "80% completed"
     ]
    },
    {
     "name": "stderr",
     "output_type": "stream",
     "text": [
      "C:\\Users\\vinic\\AppData\\Local\\Programs\\Python\\Python310\\lib\\site-packages\\sklearn\\cross_decomposition\\_pls.py:507: FutureWarning: The attribute `coef_` will be transposed in version 1.3 to be consistent with other linear models in scikit-learn. Currently, `coef_` has a shape of (n_features, n_targets) and in the future it will have a shape of (n_targets, n_features).\n",
      "  warnings.warn(\n"
     ]
    },
    {
     "name": "stdout",
     "output_type": "stream",
     "text": [
      "90% completed"
     ]
    },
    {
     "name": "stderr",
     "output_type": "stream",
     "text": [
      "C:\\Users\\vinic\\AppData\\Local\\Programs\\Python\\Python310\\lib\\site-packages\\sklearn\\cross_decomposition\\_pls.py:507: FutureWarning: The attribute `coef_` will be transposed in version 1.3 to be consistent with other linear models in scikit-learn. Currently, `coef_` has a shape of (n_features, n_targets) and in the future it will have a shape of (n_targets, n_features).\n",
      "  warnings.warn(\n"
     ]
    },
    {
     "name": "stdout",
     "output_type": "stream",
     "text": [
      "100% completed\n"
     ]
    },
    {
     "name": "stderr",
     "output_type": "stream",
     "text": [
      "C:\\Users\\vinic\\AppData\\Local\\Programs\\Python\\Python310\\lib\\site-packages\\sklearn\\cross_decomposition\\_pls.py:507: FutureWarning: The attribute `coef_` will be transposed in version 1.3 to be consistent with other linear models in scikit-learn. Currently, `coef_` has a shape of (n_features, n_targets) and in the future it will have a shape of (n_targets, n_features).\n",
      "  warnings.warn(\n",
      "C:\\Users\\vinic\\AppData\\Local\\Programs\\Python\\Python310\\lib\\site-packages\\sklearn\\cross_decomposition\\_pls.py:507: FutureWarning: The attribute `coef_` will be transposed in version 1.3 to be consistent with other linear models in scikit-learn. Currently, `coef_` has a shape of (n_features, n_targets) and in the future it will have a shape of (n_targets, n_features).\n",
      "  warnings.warn(\n"
     ]
    },
    {
     "name": "stdout",
     "output_type": "stream",
     "text": [
      "9% completed"
     ]
    },
    {
     "name": "stderr",
     "output_type": "stream",
     "text": [
      "C:\\Users\\vinic\\AppData\\Local\\Programs\\Python\\Python310\\lib\\site-packages\\sklearn\\cross_decomposition\\_pls.py:507: FutureWarning: The attribute `coef_` will be transposed in version 1.3 to be consistent with other linear models in scikit-learn. Currently, `coef_` has a shape of (n_features, n_targets) and in the future it will have a shape of (n_targets, n_features).\n",
      "  warnings.warn(\n"
     ]
    },
    {
     "name": "stdout",
     "output_type": "stream",
     "text": [
      "18% completed"
     ]
    },
    {
     "name": "stderr",
     "output_type": "stream",
     "text": [
      "C:\\Users\\vinic\\AppData\\Local\\Programs\\Python\\Python310\\lib\\site-packages\\sklearn\\cross_decomposition\\_pls.py:507: FutureWarning: The attribute `coef_` will be transposed in version 1.3 to be consistent with other linear models in scikit-learn. Currently, `coef_` has a shape of (n_features, n_targets) and in the future it will have a shape of (n_targets, n_features).\n",
      "  warnings.warn(\n"
     ]
    },
    {
     "name": "stdout",
     "output_type": "stream",
     "text": [
      "27% completed"
     ]
    },
    {
     "name": "stderr",
     "output_type": "stream",
     "text": [
      "C:\\Users\\vinic\\AppData\\Local\\Programs\\Python\\Python310\\lib\\site-packages\\sklearn\\cross_decomposition\\_pls.py:507: FutureWarning: The attribute `coef_` will be transposed in version 1.3 to be consistent with other linear models in scikit-learn. Currently, `coef_` has a shape of (n_features, n_targets) and in the future it will have a shape of (n_targets, n_features).\n",
      "  warnings.warn(\n"
     ]
    },
    {
     "name": "stdout",
     "output_type": "stream",
     "text": [
      "36% completed"
     ]
    },
    {
     "name": "stderr",
     "output_type": "stream",
     "text": [
      "C:\\Users\\vinic\\AppData\\Local\\Programs\\Python\\Python310\\lib\\site-packages\\sklearn\\cross_decomposition\\_pls.py:507: FutureWarning: The attribute `coef_` will be transposed in version 1.3 to be consistent with other linear models in scikit-learn. Currently, `coef_` has a shape of (n_features, n_targets) and in the future it will have a shape of (n_targets, n_features).\n",
      "  warnings.warn(\n"
     ]
    },
    {
     "name": "stdout",
     "output_type": "stream",
     "text": [
      "45% completed"
     ]
    },
    {
     "name": "stderr",
     "output_type": "stream",
     "text": [
      "C:\\Users\\vinic\\AppData\\Local\\Programs\\Python\\Python310\\lib\\site-packages\\sklearn\\cross_decomposition\\_pls.py:507: FutureWarning: The attribute `coef_` will be transposed in version 1.3 to be consistent with other linear models in scikit-learn. Currently, `coef_` has a shape of (n_features, n_targets) and in the future it will have a shape of (n_targets, n_features).\n",
      "  warnings.warn(\n"
     ]
    },
    {
     "name": "stdout",
     "output_type": "stream",
     "text": [
      "54% completed"
     ]
    },
    {
     "name": "stderr",
     "output_type": "stream",
     "text": [
      "C:\\Users\\vinic\\AppData\\Local\\Programs\\Python\\Python310\\lib\\site-packages\\sklearn\\cross_decomposition\\_pls.py:507: FutureWarning: The attribute `coef_` will be transposed in version 1.3 to be consistent with other linear models in scikit-learn. Currently, `coef_` has a shape of (n_features, n_targets) and in the future it will have a shape of (n_targets, n_features).\n",
      "  warnings.warn(\n"
     ]
    },
    {
     "name": "stdout",
     "output_type": "stream",
     "text": [
      "63% completed"
     ]
    },
    {
     "name": "stderr",
     "output_type": "stream",
     "text": [
      "C:\\Users\\vinic\\AppData\\Local\\Programs\\Python\\Python310\\lib\\site-packages\\sklearn\\cross_decomposition\\_pls.py:507: FutureWarning: The attribute `coef_` will be transposed in version 1.3 to be consistent with other linear models in scikit-learn. Currently, `coef_` has a shape of (n_features, n_targets) and in the future it will have a shape of (n_targets, n_features).\n",
      "  warnings.warn(\n"
     ]
    },
    {
     "name": "stdout",
     "output_type": "stream",
     "text": [
      "72% completed"
     ]
    },
    {
     "name": "stderr",
     "output_type": "stream",
     "text": [
      "C:\\Users\\vinic\\AppData\\Local\\Programs\\Python\\Python310\\lib\\site-packages\\sklearn\\cross_decomposition\\_pls.py:507: FutureWarning: The attribute `coef_` will be transposed in version 1.3 to be consistent with other linear models in scikit-learn. Currently, `coef_` has a shape of (n_features, n_targets) and in the future it will have a shape of (n_targets, n_features).\n",
      "  warnings.warn(\n"
     ]
    },
    {
     "name": "stdout",
     "output_type": "stream",
     "text": [
      "81% completed"
     ]
    },
    {
     "name": "stderr",
     "output_type": "stream",
     "text": [
      "C:\\Users\\vinic\\AppData\\Local\\Programs\\Python\\Python310\\lib\\site-packages\\sklearn\\cross_decomposition\\_pls.py:507: FutureWarning: The attribute `coef_` will be transposed in version 1.3 to be consistent with other linear models in scikit-learn. Currently, `coef_` has a shape of (n_features, n_targets) and in the future it will have a shape of (n_targets, n_features).\n",
      "  warnings.warn(\n"
     ]
    },
    {
     "name": "stdout",
     "output_type": "stream",
     "text": [
      "90% completed"
     ]
    },
    {
     "name": "stderr",
     "output_type": "stream",
     "text": [
      "C:\\Users\\vinic\\AppData\\Local\\Programs\\Python\\Python310\\lib\\site-packages\\sklearn\\cross_decomposition\\_pls.py:507: FutureWarning: The attribute `coef_` will be transposed in version 1.3 to be consistent with other linear models in scikit-learn. Currently, `coef_` has a shape of (n_features, n_targets) and in the future it will have a shape of (n_targets, n_features).\n",
      "  warnings.warn(\n"
     ]
    },
    {
     "name": "stdout",
     "output_type": "stream",
     "text": [
      "100% completed\n"
     ]
    },
    {
     "name": "stderr",
     "output_type": "stream",
     "text": [
      "C:\\Users\\vinic\\AppData\\Local\\Programs\\Python\\Python310\\lib\\site-packages\\sklearn\\cross_decomposition\\_pls.py:507: FutureWarning: The attribute `coef_` will be transposed in version 1.3 to be consistent with other linear models in scikit-learn. Currently, `coef_` has a shape of (n_features, n_targets) and in the future it will have a shape of (n_targets, n_features).\n",
      "  warnings.warn(\n",
      "C:\\Users\\vinic\\AppData\\Local\\Programs\\Python\\Python310\\lib\\site-packages\\sklearn\\cross_decomposition\\_pls.py:507: FutureWarning: The attribute `coef_` will be transposed in version 1.3 to be consistent with other linear models in scikit-learn. Currently, `coef_` has a shape of (n_features, n_targets) and in the future it will have a shape of (n_targets, n_features).\n",
      "  warnings.warn(\n"
     ]
    },
    {
     "name": "stdout",
     "output_type": "stream",
     "text": [
      "8% completed"
     ]
    },
    {
     "name": "stderr",
     "output_type": "stream",
     "text": [
      "C:\\Users\\vinic\\AppData\\Local\\Programs\\Python\\Python310\\lib\\site-packages\\sklearn\\cross_decomposition\\_pls.py:507: FutureWarning: The attribute `coef_` will be transposed in version 1.3 to be consistent with other linear models in scikit-learn. Currently, `coef_` has a shape of (n_features, n_targets) and in the future it will have a shape of (n_targets, n_features).\n",
      "  warnings.warn(\n"
     ]
    },
    {
     "name": "stdout",
     "output_type": "stream",
     "text": [
      "16% completed"
     ]
    },
    {
     "name": "stderr",
     "output_type": "stream",
     "text": [
      "C:\\Users\\vinic\\AppData\\Local\\Programs\\Python\\Python310\\lib\\site-packages\\sklearn\\cross_decomposition\\_pls.py:507: FutureWarning: The attribute `coef_` will be transposed in version 1.3 to be consistent with other linear models in scikit-learn. Currently, `coef_` has a shape of (n_features, n_targets) and in the future it will have a shape of (n_targets, n_features).\n",
      "  warnings.warn(\n"
     ]
    },
    {
     "name": "stdout",
     "output_type": "stream",
     "text": [
      "25% completed"
     ]
    },
    {
     "name": "stderr",
     "output_type": "stream",
     "text": [
      "C:\\Users\\vinic\\AppData\\Local\\Programs\\Python\\Python310\\lib\\site-packages\\sklearn\\cross_decomposition\\_pls.py:507: FutureWarning: The attribute `coef_` will be transposed in version 1.3 to be consistent with other linear models in scikit-learn. Currently, `coef_` has a shape of (n_features, n_targets) and in the future it will have a shape of (n_targets, n_features).\n",
      "  warnings.warn(\n"
     ]
    },
    {
     "name": "stdout",
     "output_type": "stream",
     "text": [
      "33% completed"
     ]
    },
    {
     "name": "stderr",
     "output_type": "stream",
     "text": [
      "C:\\Users\\vinic\\AppData\\Local\\Programs\\Python\\Python310\\lib\\site-packages\\sklearn\\cross_decomposition\\_pls.py:507: FutureWarning: The attribute `coef_` will be transposed in version 1.3 to be consistent with other linear models in scikit-learn. Currently, `coef_` has a shape of (n_features, n_targets) and in the future it will have a shape of (n_targets, n_features).\n",
      "  warnings.warn(\n"
     ]
    },
    {
     "name": "stdout",
     "output_type": "stream",
     "text": [
      "41% completed"
     ]
    },
    {
     "name": "stderr",
     "output_type": "stream",
     "text": [
      "C:\\Users\\vinic\\AppData\\Local\\Programs\\Python\\Python310\\lib\\site-packages\\sklearn\\cross_decomposition\\_pls.py:507: FutureWarning: The attribute `coef_` will be transposed in version 1.3 to be consistent with other linear models in scikit-learn. Currently, `coef_` has a shape of (n_features, n_targets) and in the future it will have a shape of (n_targets, n_features).\n",
      "  warnings.warn(\n"
     ]
    },
    {
     "name": "stdout",
     "output_type": "stream",
     "text": [
      "50% completed"
     ]
    },
    {
     "name": "stderr",
     "output_type": "stream",
     "text": [
      "C:\\Users\\vinic\\AppData\\Local\\Programs\\Python\\Python310\\lib\\site-packages\\sklearn\\cross_decomposition\\_pls.py:507: FutureWarning: The attribute `coef_` will be transposed in version 1.3 to be consistent with other linear models in scikit-learn. Currently, `coef_` has a shape of (n_features, n_targets) and in the future it will have a shape of (n_targets, n_features).\n",
      "  warnings.warn(\n"
     ]
    },
    {
     "name": "stdout",
     "output_type": "stream",
     "text": [
      "58% completed"
     ]
    },
    {
     "name": "stderr",
     "output_type": "stream",
     "text": [
      "C:\\Users\\vinic\\AppData\\Local\\Programs\\Python\\Python310\\lib\\site-packages\\sklearn\\cross_decomposition\\_pls.py:507: FutureWarning: The attribute `coef_` will be transposed in version 1.3 to be consistent with other linear models in scikit-learn. Currently, `coef_` has a shape of (n_features, n_targets) and in the future it will have a shape of (n_targets, n_features).\n",
      "  warnings.warn(\n"
     ]
    },
    {
     "name": "stdout",
     "output_type": "stream",
     "text": [
      "66% completed"
     ]
    },
    {
     "name": "stderr",
     "output_type": "stream",
     "text": [
      "C:\\Users\\vinic\\AppData\\Local\\Programs\\Python\\Python310\\lib\\site-packages\\sklearn\\cross_decomposition\\_pls.py:507: FutureWarning: The attribute `coef_` will be transposed in version 1.3 to be consistent with other linear models in scikit-learn. Currently, `coef_` has a shape of (n_features, n_targets) and in the future it will have a shape of (n_targets, n_features).\n",
      "  warnings.warn(\n"
     ]
    },
    {
     "name": "stdout",
     "output_type": "stream",
     "text": [
      "75% completed"
     ]
    },
    {
     "name": "stderr",
     "output_type": "stream",
     "text": [
      "C:\\Users\\vinic\\AppData\\Local\\Programs\\Python\\Python310\\lib\\site-packages\\sklearn\\cross_decomposition\\_pls.py:507: FutureWarning: The attribute `coef_` will be transposed in version 1.3 to be consistent with other linear models in scikit-learn. Currently, `coef_` has a shape of (n_features, n_targets) and in the future it will have a shape of (n_targets, n_features).\n",
      "  warnings.warn(\n"
     ]
    },
    {
     "name": "stdout",
     "output_type": "stream",
     "text": [
      "83% completed"
     ]
    },
    {
     "name": "stderr",
     "output_type": "stream",
     "text": [
      "C:\\Users\\vinic\\AppData\\Local\\Programs\\Python\\Python310\\lib\\site-packages\\sklearn\\cross_decomposition\\_pls.py:507: FutureWarning: The attribute `coef_` will be transposed in version 1.3 to be consistent with other linear models in scikit-learn. Currently, `coef_` has a shape of (n_features, n_targets) and in the future it will have a shape of (n_targets, n_features).\n",
      "  warnings.warn(\n"
     ]
    },
    {
     "name": "stdout",
     "output_type": "stream",
     "text": [
      "91% completed"
     ]
    },
    {
     "name": "stderr",
     "output_type": "stream",
     "text": [
      "C:\\Users\\vinic\\AppData\\Local\\Programs\\Python\\Python310\\lib\\site-packages\\sklearn\\cross_decomposition\\_pls.py:507: FutureWarning: The attribute `coef_` will be transposed in version 1.3 to be consistent with other linear models in scikit-learn. Currently, `coef_` has a shape of (n_features, n_targets) and in the future it will have a shape of (n_targets, n_features).\n",
      "  warnings.warn(\n"
     ]
    },
    {
     "name": "stdout",
     "output_type": "stream",
     "text": [
      "100% completed\n"
     ]
    },
    {
     "name": "stderr",
     "output_type": "stream",
     "text": [
      "C:\\Users\\vinic\\AppData\\Local\\Programs\\Python\\Python310\\lib\\site-packages\\sklearn\\cross_decomposition\\_pls.py:507: FutureWarning: The attribute `coef_` will be transposed in version 1.3 to be consistent with other linear models in scikit-learn. Currently, `coef_` has a shape of (n_features, n_targets) and in the future it will have a shape of (n_targets, n_features).\n",
      "  warnings.warn(\n",
      "C:\\Users\\vinic\\AppData\\Local\\Programs\\Python\\Python310\\lib\\site-packages\\sklearn\\cross_decomposition\\_pls.py:507: FutureWarning: The attribute `coef_` will be transposed in version 1.3 to be consistent with other linear models in scikit-learn. Currently, `coef_` has a shape of (n_features, n_targets) and in the future it will have a shape of (n_targets, n_features).\n",
      "  warnings.warn(\n"
     ]
    },
    {
     "name": "stdout",
     "output_type": "stream",
     "text": [
      "7% completed"
     ]
    },
    {
     "name": "stderr",
     "output_type": "stream",
     "text": [
      "C:\\Users\\vinic\\AppData\\Local\\Programs\\Python\\Python310\\lib\\site-packages\\sklearn\\cross_decomposition\\_pls.py:507: FutureWarning: The attribute `coef_` will be transposed in version 1.3 to be consistent with other linear models in scikit-learn. Currently, `coef_` has a shape of (n_features, n_targets) and in the future it will have a shape of (n_targets, n_features).\n",
      "  warnings.warn(\n"
     ]
    },
    {
     "name": "stdout",
     "output_type": "stream",
     "text": [
      "15% completed"
     ]
    },
    {
     "name": "stderr",
     "output_type": "stream",
     "text": [
      "C:\\Users\\vinic\\AppData\\Local\\Programs\\Python\\Python310\\lib\\site-packages\\sklearn\\cross_decomposition\\_pls.py:507: FutureWarning: The attribute `coef_` will be transposed in version 1.3 to be consistent with other linear models in scikit-learn. Currently, `coef_` has a shape of (n_features, n_targets) and in the future it will have a shape of (n_targets, n_features).\n",
      "  warnings.warn(\n"
     ]
    },
    {
     "name": "stdout",
     "output_type": "stream",
     "text": [
      "23% completed"
     ]
    },
    {
     "name": "stderr",
     "output_type": "stream",
     "text": [
      "C:\\Users\\vinic\\AppData\\Local\\Programs\\Python\\Python310\\lib\\site-packages\\sklearn\\cross_decomposition\\_pls.py:507: FutureWarning: The attribute `coef_` will be transposed in version 1.3 to be consistent with other linear models in scikit-learn. Currently, `coef_` has a shape of (n_features, n_targets) and in the future it will have a shape of (n_targets, n_features).\n",
      "  warnings.warn(\n"
     ]
    },
    {
     "name": "stdout",
     "output_type": "stream",
     "text": [
      "30% completed"
     ]
    },
    {
     "name": "stderr",
     "output_type": "stream",
     "text": [
      "C:\\Users\\vinic\\AppData\\Local\\Programs\\Python\\Python310\\lib\\site-packages\\sklearn\\cross_decomposition\\_pls.py:507: FutureWarning: The attribute `coef_` will be transposed in version 1.3 to be consistent with other linear models in scikit-learn. Currently, `coef_` has a shape of (n_features, n_targets) and in the future it will have a shape of (n_targets, n_features).\n",
      "  warnings.warn(\n"
     ]
    },
    {
     "name": "stdout",
     "output_type": "stream",
     "text": [
      "38% completed"
     ]
    },
    {
     "name": "stderr",
     "output_type": "stream",
     "text": [
      "C:\\Users\\vinic\\AppData\\Local\\Programs\\Python\\Python310\\lib\\site-packages\\sklearn\\cross_decomposition\\_pls.py:507: FutureWarning: The attribute `coef_` will be transposed in version 1.3 to be consistent with other linear models in scikit-learn. Currently, `coef_` has a shape of (n_features, n_targets) and in the future it will have a shape of (n_targets, n_features).\n",
      "  warnings.warn(\n"
     ]
    },
    {
     "name": "stdout",
     "output_type": "stream",
     "text": [
      "46% completed"
     ]
    },
    {
     "name": "stderr",
     "output_type": "stream",
     "text": [
      "C:\\Users\\vinic\\AppData\\Local\\Programs\\Python\\Python310\\lib\\site-packages\\sklearn\\cross_decomposition\\_pls.py:507: FutureWarning: The attribute `coef_` will be transposed in version 1.3 to be consistent with other linear models in scikit-learn. Currently, `coef_` has a shape of (n_features, n_targets) and in the future it will have a shape of (n_targets, n_features).\n",
      "  warnings.warn(\n"
     ]
    },
    {
     "name": "stdout",
     "output_type": "stream",
     "text": [
      "53% completed"
     ]
    },
    {
     "name": "stderr",
     "output_type": "stream",
     "text": [
      "C:\\Users\\vinic\\AppData\\Local\\Programs\\Python\\Python310\\lib\\site-packages\\sklearn\\cross_decomposition\\_pls.py:507: FutureWarning: The attribute `coef_` will be transposed in version 1.3 to be consistent with other linear models in scikit-learn. Currently, `coef_` has a shape of (n_features, n_targets) and in the future it will have a shape of (n_targets, n_features).\n",
      "  warnings.warn(\n"
     ]
    },
    {
     "name": "stdout",
     "output_type": "stream",
     "text": [
      "61% completed"
     ]
    },
    {
     "name": "stderr",
     "output_type": "stream",
     "text": [
      "C:\\Users\\vinic\\AppData\\Local\\Programs\\Python\\Python310\\lib\\site-packages\\sklearn\\cross_decomposition\\_pls.py:507: FutureWarning: The attribute `coef_` will be transposed in version 1.3 to be consistent with other linear models in scikit-learn. Currently, `coef_` has a shape of (n_features, n_targets) and in the future it will have a shape of (n_targets, n_features).\n",
      "  warnings.warn(\n"
     ]
    },
    {
     "name": "stdout",
     "output_type": "stream",
     "text": [
      "69% completed"
     ]
    },
    {
     "name": "stderr",
     "output_type": "stream",
     "text": [
      "C:\\Users\\vinic\\AppData\\Local\\Programs\\Python\\Python310\\lib\\site-packages\\sklearn\\cross_decomposition\\_pls.py:507: FutureWarning: The attribute `coef_` will be transposed in version 1.3 to be consistent with other linear models in scikit-learn. Currently, `coef_` has a shape of (n_features, n_targets) and in the future it will have a shape of (n_targets, n_features).\n",
      "  warnings.warn(\n"
     ]
    },
    {
     "name": "stdout",
     "output_type": "stream",
     "text": [
      "76% completed"
     ]
    },
    {
     "name": "stderr",
     "output_type": "stream",
     "text": [
      "C:\\Users\\vinic\\AppData\\Local\\Programs\\Python\\Python310\\lib\\site-packages\\sklearn\\cross_decomposition\\_pls.py:507: FutureWarning: The attribute `coef_` will be transposed in version 1.3 to be consistent with other linear models in scikit-learn. Currently, `coef_` has a shape of (n_features, n_targets) and in the future it will have a shape of (n_targets, n_features).\n",
      "  warnings.warn(\n"
     ]
    },
    {
     "name": "stdout",
     "output_type": "stream",
     "text": [
      "84% completed"
     ]
    },
    {
     "name": "stderr",
     "output_type": "stream",
     "text": [
      "C:\\Users\\vinic\\AppData\\Local\\Programs\\Python\\Python310\\lib\\site-packages\\sklearn\\cross_decomposition\\_pls.py:507: FutureWarning: The attribute `coef_` will be transposed in version 1.3 to be consistent with other linear models in scikit-learn. Currently, `coef_` has a shape of (n_features, n_targets) and in the future it will have a shape of (n_targets, n_features).\n",
      "  warnings.warn(\n"
     ]
    },
    {
     "name": "stdout",
     "output_type": "stream",
     "text": [
      "92% completed"
     ]
    },
    {
     "name": "stderr",
     "output_type": "stream",
     "text": [
      "C:\\Users\\vinic\\AppData\\Local\\Programs\\Python\\Python310\\lib\\site-packages\\sklearn\\cross_decomposition\\_pls.py:507: FutureWarning: The attribute `coef_` will be transposed in version 1.3 to be consistent with other linear models in scikit-learn. Currently, `coef_` has a shape of (n_features, n_targets) and in the future it will have a shape of (n_targets, n_features).\n",
      "  warnings.warn(\n"
     ]
    },
    {
     "name": "stdout",
     "output_type": "stream",
     "text": [
      "100% completed\n"
     ]
    },
    {
     "name": "stderr",
     "output_type": "stream",
     "text": [
      "C:\\Users\\vinic\\AppData\\Local\\Programs\\Python\\Python310\\lib\\site-packages\\sklearn\\cross_decomposition\\_pls.py:507: FutureWarning: The attribute `coef_` will be transposed in version 1.3 to be consistent with other linear models in scikit-learn. Currently, `coef_` has a shape of (n_features, n_targets) and in the future it will have a shape of (n_targets, n_features).\n",
      "  warnings.warn(\n",
      "C:\\Users\\vinic\\AppData\\Local\\Programs\\Python\\Python310\\lib\\site-packages\\sklearn\\cross_decomposition\\_pls.py:507: FutureWarning: The attribute `coef_` will be transposed in version 1.3 to be consistent with other linear models in scikit-learn. Currently, `coef_` has a shape of (n_features, n_targets) and in the future it will have a shape of (n_targets, n_features).\n",
      "  warnings.warn(\n"
     ]
    },
    {
     "name": "stdout",
     "output_type": "stream",
     "text": [
      "7% completed"
     ]
    },
    {
     "name": "stderr",
     "output_type": "stream",
     "text": [
      "C:\\Users\\vinic\\AppData\\Local\\Programs\\Python\\Python310\\lib\\site-packages\\sklearn\\cross_decomposition\\_pls.py:507: FutureWarning: The attribute `coef_` will be transposed in version 1.3 to be consistent with other linear models in scikit-learn. Currently, `coef_` has a shape of (n_features, n_targets) and in the future it will have a shape of (n_targets, n_features).\n",
      "  warnings.warn(\n"
     ]
    },
    {
     "name": "stdout",
     "output_type": "stream",
     "text": [
      "14% completed"
     ]
    },
    {
     "name": "stderr",
     "output_type": "stream",
     "text": [
      "C:\\Users\\vinic\\AppData\\Local\\Programs\\Python\\Python310\\lib\\site-packages\\sklearn\\cross_decomposition\\_pls.py:507: FutureWarning: The attribute `coef_` will be transposed in version 1.3 to be consistent with other linear models in scikit-learn. Currently, `coef_` has a shape of (n_features, n_targets) and in the future it will have a shape of (n_targets, n_features).\n",
      "  warnings.warn(\n"
     ]
    },
    {
     "name": "stdout",
     "output_type": "stream",
     "text": [
      "21% completed"
     ]
    },
    {
     "name": "stderr",
     "output_type": "stream",
     "text": [
      "C:\\Users\\vinic\\AppData\\Local\\Programs\\Python\\Python310\\lib\\site-packages\\sklearn\\cross_decomposition\\_pls.py:507: FutureWarning: The attribute `coef_` will be transposed in version 1.3 to be consistent with other linear models in scikit-learn. Currently, `coef_` has a shape of (n_features, n_targets) and in the future it will have a shape of (n_targets, n_features).\n",
      "  warnings.warn(\n"
     ]
    },
    {
     "name": "stdout",
     "output_type": "stream",
     "text": [
      "28% completed"
     ]
    },
    {
     "name": "stderr",
     "output_type": "stream",
     "text": [
      "C:\\Users\\vinic\\AppData\\Local\\Programs\\Python\\Python310\\lib\\site-packages\\sklearn\\cross_decomposition\\_pls.py:507: FutureWarning: The attribute `coef_` will be transposed in version 1.3 to be consistent with other linear models in scikit-learn. Currently, `coef_` has a shape of (n_features, n_targets) and in the future it will have a shape of (n_targets, n_features).\n",
      "  warnings.warn(\n"
     ]
    },
    {
     "name": "stdout",
     "output_type": "stream",
     "text": [
      "35% completed"
     ]
    },
    {
     "name": "stderr",
     "output_type": "stream",
     "text": [
      "C:\\Users\\vinic\\AppData\\Local\\Programs\\Python\\Python310\\lib\\site-packages\\sklearn\\cross_decomposition\\_pls.py:507: FutureWarning: The attribute `coef_` will be transposed in version 1.3 to be consistent with other linear models in scikit-learn. Currently, `coef_` has a shape of (n_features, n_targets) and in the future it will have a shape of (n_targets, n_features).\n",
      "  warnings.warn(\n"
     ]
    },
    {
     "name": "stdout",
     "output_type": "stream",
     "text": [
      "42% completed"
     ]
    },
    {
     "name": "stderr",
     "output_type": "stream",
     "text": [
      "C:\\Users\\vinic\\AppData\\Local\\Programs\\Python\\Python310\\lib\\site-packages\\sklearn\\cross_decomposition\\_pls.py:507: FutureWarning: The attribute `coef_` will be transposed in version 1.3 to be consistent with other linear models in scikit-learn. Currently, `coef_` has a shape of (n_features, n_targets) and in the future it will have a shape of (n_targets, n_features).\n",
      "  warnings.warn(\n"
     ]
    },
    {
     "name": "stdout",
     "output_type": "stream",
     "text": [
      "50% completed"
     ]
    },
    {
     "name": "stderr",
     "output_type": "stream",
     "text": [
      "C:\\Users\\vinic\\AppData\\Local\\Programs\\Python\\Python310\\lib\\site-packages\\sklearn\\cross_decomposition\\_pls.py:507: FutureWarning: The attribute `coef_` will be transposed in version 1.3 to be consistent with other linear models in scikit-learn. Currently, `coef_` has a shape of (n_features, n_targets) and in the future it will have a shape of (n_targets, n_features).\n",
      "  warnings.warn(\n"
     ]
    },
    {
     "name": "stdout",
     "output_type": "stream",
     "text": [
      "57% completed"
     ]
    },
    {
     "name": "stderr",
     "output_type": "stream",
     "text": [
      "C:\\Users\\vinic\\AppData\\Local\\Programs\\Python\\Python310\\lib\\site-packages\\sklearn\\cross_decomposition\\_pls.py:507: FutureWarning: The attribute `coef_` will be transposed in version 1.3 to be consistent with other linear models in scikit-learn. Currently, `coef_` has a shape of (n_features, n_targets) and in the future it will have a shape of (n_targets, n_features).\n",
      "  warnings.warn(\n"
     ]
    },
    {
     "name": "stdout",
     "output_type": "stream",
     "text": [
      "64% completed"
     ]
    },
    {
     "name": "stderr",
     "output_type": "stream",
     "text": [
      "C:\\Users\\vinic\\AppData\\Local\\Programs\\Python\\Python310\\lib\\site-packages\\sklearn\\cross_decomposition\\_pls.py:507: FutureWarning: The attribute `coef_` will be transposed in version 1.3 to be consistent with other linear models in scikit-learn. Currently, `coef_` has a shape of (n_features, n_targets) and in the future it will have a shape of (n_targets, n_features).\n",
      "  warnings.warn(\n"
     ]
    },
    {
     "name": "stdout",
     "output_type": "stream",
     "text": [
      "71% completed"
     ]
    },
    {
     "name": "stderr",
     "output_type": "stream",
     "text": [
      "C:\\Users\\vinic\\AppData\\Local\\Programs\\Python\\Python310\\lib\\site-packages\\sklearn\\cross_decomposition\\_pls.py:507: FutureWarning: The attribute `coef_` will be transposed in version 1.3 to be consistent with other linear models in scikit-learn. Currently, `coef_` has a shape of (n_features, n_targets) and in the future it will have a shape of (n_targets, n_features).\n",
      "  warnings.warn(\n"
     ]
    },
    {
     "name": "stdout",
     "output_type": "stream",
     "text": [
      "78% completed"
     ]
    },
    {
     "name": "stderr",
     "output_type": "stream",
     "text": [
      "C:\\Users\\vinic\\AppData\\Local\\Programs\\Python\\Python310\\lib\\site-packages\\sklearn\\cross_decomposition\\_pls.py:507: FutureWarning: The attribute `coef_` will be transposed in version 1.3 to be consistent with other linear models in scikit-learn. Currently, `coef_` has a shape of (n_features, n_targets) and in the future it will have a shape of (n_targets, n_features).\n",
      "  warnings.warn(\n"
     ]
    },
    {
     "name": "stdout",
     "output_type": "stream",
     "text": [
      "85% completed"
     ]
    },
    {
     "name": "stderr",
     "output_type": "stream",
     "text": [
      "C:\\Users\\vinic\\AppData\\Local\\Programs\\Python\\Python310\\lib\\site-packages\\sklearn\\cross_decomposition\\_pls.py:507: FutureWarning: The attribute `coef_` will be transposed in version 1.3 to be consistent with other linear models in scikit-learn. Currently, `coef_` has a shape of (n_features, n_targets) and in the future it will have a shape of (n_targets, n_features).\n",
      "  warnings.warn(\n"
     ]
    },
    {
     "name": "stdout",
     "output_type": "stream",
     "text": [
      "92% completed"
     ]
    },
    {
     "name": "stderr",
     "output_type": "stream",
     "text": [
      "C:\\Users\\vinic\\AppData\\Local\\Programs\\Python\\Python310\\lib\\site-packages\\sklearn\\cross_decomposition\\_pls.py:507: FutureWarning: The attribute `coef_` will be transposed in version 1.3 to be consistent with other linear models in scikit-learn. Currently, `coef_` has a shape of (n_features, n_targets) and in the future it will have a shape of (n_targets, n_features).\n",
      "  warnings.warn(\n"
     ]
    },
    {
     "name": "stdout",
     "output_type": "stream",
     "text": [
      "100% completed\n"
     ]
    },
    {
     "name": "stderr",
     "output_type": "stream",
     "text": [
      "C:\\Users\\vinic\\AppData\\Local\\Programs\\Python\\Python310\\lib\\site-packages\\sklearn\\cross_decomposition\\_pls.py:507: FutureWarning: The attribute `coef_` will be transposed in version 1.3 to be consistent with other linear models in scikit-learn. Currently, `coef_` has a shape of (n_features, n_targets) and in the future it will have a shape of (n_targets, n_features).\n",
      "  warnings.warn(\n"
     ]
    }
   ],
   "source": [
    "selectedSpectrum, optimalPLSComponents = find_Best_Spectrum(SNVspectrum,y)"
   ],
   "metadata": {
    "collapsed": false
   }
  },
  {
   "cell_type": "code",
   "execution_count": 7,
   "outputs": [
    {
     "name": "stdout",
     "output_type": "stream",
     "text": [
      "Contamination: 0.01\n"
     ]
    },
    {
     "name": "stderr",
     "output_type": "stream",
     "text": [
      "D:\\Material\\AmostrasLarissa\\venv\\lib\\site-packages\\pyod\\models\\base.py:430: UserWarning: y should not be presented in unsupervised learning.\n",
      "  warnings.warn(\n",
      "D:\\Material\\AmostrasLarissa\\venv\\lib\\site-packages\\astartes\\main.py:357: NormalizationWarning: Requested train/test split (0.75, 0.30) do not sum to 1.0, normalizing to train=0.71, test=0.29.\n",
      "  warn(\n",
      "D:\\Material\\AmostrasLarissa\\venv\\lib\\site-packages\\pyod\\models\\base.py:430: UserWarning: y should not be presented in unsupervised learning.\n",
      "  warnings.warn(\n",
      "D:\\Material\\AmostrasLarissa\\venv\\lib\\site-packages\\astartes\\main.py:357: NormalizationWarning: Requested train/test split (0.75, 0.30) do not sum to 1.0, normalizing to train=0.71, test=0.29.\n",
      "  warn(\n",
      "D:\\Material\\AmostrasLarissa\\venv\\lib\\site-packages\\pyod\\models\\base.py:430: UserWarning: y should not be presented in unsupervised learning.\n",
      "  warnings.warn(\n",
      "D:\\Material\\AmostrasLarissa\\venv\\lib\\site-packages\\astartes\\main.py:357: NormalizationWarning: Requested train/test split (0.75, 0.30) do not sum to 1.0, normalizing to train=0.71, test=0.29.\n",
      "  warn(\n",
      "D:\\Material\\AmostrasLarissa\\venv\\lib\\site-packages\\pyod\\models\\base.py:430: UserWarning: y should not be presented in unsupervised learning.\n",
      "  warnings.warn(\n",
      "D:\\Material\\AmostrasLarissa\\venv\\lib\\site-packages\\astartes\\main.py:357: NormalizationWarning: Requested train/test split (0.75, 0.30) do not sum to 1.0, normalizing to train=0.71, test=0.29.\n",
      "  warn(\n",
      "D:\\Material\\AmostrasLarissa\\venv\\lib\\site-packages\\pyod\\models\\base.py:430: UserWarning: y should not be presented in unsupervised learning.\n",
      "  warnings.warn(\n",
      "D:\\Material\\AmostrasLarissa\\venv\\lib\\site-packages\\astartes\\main.py:357: NormalizationWarning: Requested train/test split (0.75, 0.30) do not sum to 1.0, normalizing to train=0.71, test=0.29.\n",
      "  warn(\n",
      "D:\\Material\\AmostrasLarissa\\venv\\lib\\site-packages\\pyod\\models\\base.py:430: UserWarning: y should not be presented in unsupervised learning.\n",
      "  warnings.warn(\n",
      "D:\\Material\\AmostrasLarissa\\venv\\lib\\site-packages\\astartes\\main.py:357: NormalizationWarning: Requested train/test split (0.75, 0.30) do not sum to 1.0, normalizing to train=0.71, test=0.29.\n",
      "  warn(\n",
      "D:\\Material\\AmostrasLarissa\\venv\\lib\\site-packages\\pyod\\models\\base.py:430: UserWarning: y should not be presented in unsupervised learning.\n",
      "  warnings.warn(\n",
      "D:\\Material\\AmostrasLarissa\\venv\\lib\\site-packages\\astartes\\main.py:357: NormalizationWarning: Requested train/test split (0.75, 0.30) do not sum to 1.0, normalizing to train=0.71, test=0.29.\n",
      "  warn(\n",
      "D:\\Material\\AmostrasLarissa\\venv\\lib\\site-packages\\pyod\\models\\base.py:430: UserWarning: y should not be presented in unsupervised learning.\n",
      "  warnings.warn(\n",
      "D:\\Material\\AmostrasLarissa\\venv\\lib\\site-packages\\astartes\\main.py:357: NormalizationWarning: Requested train/test split (0.75, 0.30) do not sum to 1.0, normalizing to train=0.71, test=0.29.\n",
      "  warn(\n",
      "D:\\Material\\AmostrasLarissa\\venv\\lib\\site-packages\\pyod\\models\\base.py:430: UserWarning: y should not be presented in unsupervised learning.\n",
      "  warnings.warn(\n",
      "D:\\Material\\AmostrasLarissa\\venv\\lib\\site-packages\\astartes\\main.py:357: NormalizationWarning: Requested train/test split (0.75, 0.30) do not sum to 1.0, normalizing to train=0.71, test=0.29.\n",
      "  warn(\n",
      "D:\\Material\\AmostrasLarissa\\venv\\lib\\site-packages\\pyod\\models\\base.py:430: UserWarning: y should not be presented in unsupervised learning.\n",
      "  warnings.warn(\n",
      "D:\\Material\\AmostrasLarissa\\venv\\lib\\site-packages\\astartes\\main.py:357: NormalizationWarning: Requested train/test split (0.75, 0.30) do not sum to 1.0, normalizing to train=0.71, test=0.29.\n",
      "  warn(\n",
      "D:\\Material\\AmostrasLarissa\\venv\\lib\\site-packages\\pyod\\models\\base.py:430: UserWarning: y should not be presented in unsupervised learning.\n",
      "  warnings.warn(\n",
      "D:\\Material\\AmostrasLarissa\\venv\\lib\\site-packages\\astartes\\main.py:357: NormalizationWarning: Requested train/test split (0.75, 0.30) do not sum to 1.0, normalizing to train=0.71, test=0.29.\n",
      "  warn(\n",
      "D:\\Material\\AmostrasLarissa\\venv\\lib\\site-packages\\pyod\\models\\base.py:430: UserWarning: y should not be presented in unsupervised learning.\n",
      "  warnings.warn(\n",
      "D:\\Material\\AmostrasLarissa\\venv\\lib\\site-packages\\astartes\\main.py:357: NormalizationWarning: Requested train/test split (0.75, 0.30) do not sum to 1.0, normalizing to train=0.71, test=0.29.\n",
      "  warn(\n",
      "D:\\Material\\AmostrasLarissa\\venv\\lib\\site-packages\\pyod\\models\\base.py:430: UserWarning: y should not be presented in unsupervised learning.\n",
      "  warnings.warn(\n",
      "D:\\Material\\AmostrasLarissa\\venv\\lib\\site-packages\\astartes\\main.py:357: NormalizationWarning: Requested train/test split (0.75, 0.30) do not sum to 1.0, normalizing to train=0.71, test=0.29.\n",
      "  warn(\n",
      "D:\\Material\\AmostrasLarissa\\venv\\lib\\site-packages\\pyod\\models\\base.py:430: UserWarning: y should not be presented in unsupervised learning.\n",
      "  warnings.warn(\n",
      "D:\\Material\\AmostrasLarissa\\venv\\lib\\site-packages\\astartes\\main.py:357: NormalizationWarning: Requested train/test split (0.75, 0.30) do not sum to 1.0, normalizing to train=0.71, test=0.29.\n",
      "  warn(\n",
      "D:\\Material\\AmostrasLarissa\\venv\\lib\\site-packages\\pyod\\models\\base.py:430: UserWarning: y should not be presented in unsupervised learning.\n",
      "  warnings.warn(\n",
      "D:\\Material\\AmostrasLarissa\\venv\\lib\\site-packages\\astartes\\main.py:357: NormalizationWarning: Requested train/test split (0.75, 0.30) do not sum to 1.0, normalizing to train=0.71, test=0.29.\n",
      "  warn(\n"
     ]
    },
    {
     "name": "stdout",
     "output_type": "stream",
     "text": [
      "Contamination: 0.02\n",
      "Contamination: 0.03\n",
      "Contamination: 0.04\n",
      "Contamination: 0.05\n",
      "Contamination: 0.060000000000000005\n",
      "Contamination: 0.06999999999999999\n",
      "Contamination: 0.08\n",
      "Contamination: 0.09\n",
      "Contamination: 0.09999999999999999\n",
      "Contamination: 0.11\n",
      "Contamination: 0.12\n",
      "Contamination: 0.13\n",
      "Contamination: 0.14\n",
      "Contamination: 0.15000000000000002\n",
      "Contamination: 0.16\n",
      "Contamination: 0.17\n",
      "Contamination: 0.18000000000000002\n",
      "Contamination: 0.19\n",
      "Contamination: 0.2\n",
      "Contamination: 0.21000000000000002\n",
      "Contamination: 0.22\n",
      "Contamination: 0.23\n",
      "Contamination: 0.24000000000000002\n",
      "Contamination: 0.25\n",
      "Contamination: 0.26\n",
      "Contamination: 0.27\n",
      "Contamination: 0.28\n",
      "Contamination: 0.29000000000000004\n"
     ]
    },
    {
     "name": "stderr",
     "output_type": "stream",
     "text": [
      "D:\\Material\\AmostrasLarissa\\venv\\lib\\site-packages\\pyod\\models\\base.py:430: UserWarning: y should not be presented in unsupervised learning.\n",
      "  warnings.warn(\n",
      "D:\\Material\\AmostrasLarissa\\venv\\lib\\site-packages\\astartes\\main.py:357: NormalizationWarning: Requested train/test split (0.75, 0.30) do not sum to 1.0, normalizing to train=0.71, test=0.29.\n",
      "  warn(\n",
      "D:\\Material\\AmostrasLarissa\\venv\\lib\\site-packages\\pyod\\models\\base.py:430: UserWarning: y should not be presented in unsupervised learning.\n",
      "  warnings.warn(\n",
      "D:\\Material\\AmostrasLarissa\\venv\\lib\\site-packages\\astartes\\main.py:357: NormalizationWarning: Requested train/test split (0.75, 0.30) do not sum to 1.0, normalizing to train=0.71, test=0.29.\n",
      "  warn(\n",
      "D:\\Material\\AmostrasLarissa\\venv\\lib\\site-packages\\pyod\\models\\base.py:430: UserWarning: y should not be presented in unsupervised learning.\n",
      "  warnings.warn(\n",
      "D:\\Material\\AmostrasLarissa\\venv\\lib\\site-packages\\astartes\\main.py:357: NormalizationWarning: Requested train/test split (0.75, 0.30) do not sum to 1.0, normalizing to train=0.71, test=0.29.\n",
      "  warn(\n",
      "D:\\Material\\AmostrasLarissa\\venv\\lib\\site-packages\\pyod\\models\\base.py:430: UserWarning: y should not be presented in unsupervised learning.\n",
      "  warnings.warn(\n",
      "D:\\Material\\AmostrasLarissa\\venv\\lib\\site-packages\\astartes\\main.py:357: NormalizationWarning: Requested train/test split (0.75, 0.30) do not sum to 1.0, normalizing to train=0.71, test=0.29.\n",
      "  warn(\n",
      "D:\\Material\\AmostrasLarissa\\venv\\lib\\site-packages\\pyod\\models\\base.py:430: UserWarning: y should not be presented in unsupervised learning.\n",
      "  warnings.warn(\n",
      "D:\\Material\\AmostrasLarissa\\venv\\lib\\site-packages\\astartes\\main.py:357: NormalizationWarning: Requested train/test split (0.75, 0.30) do not sum to 1.0, normalizing to train=0.71, test=0.29.\n",
      "  warn(\n",
      "D:\\Material\\AmostrasLarissa\\venv\\lib\\site-packages\\pyod\\models\\base.py:430: UserWarning: y should not be presented in unsupervised learning.\n",
      "  warnings.warn(\n",
      "D:\\Material\\AmostrasLarissa\\venv\\lib\\site-packages\\astartes\\main.py:357: NormalizationWarning: Requested train/test split (0.75, 0.30) do not sum to 1.0, normalizing to train=0.71, test=0.29.\n",
      "  warn(\n",
      "D:\\Material\\AmostrasLarissa\\venv\\lib\\site-packages\\pyod\\models\\base.py:430: UserWarning: y should not be presented in unsupervised learning.\n",
      "  warnings.warn(\n",
      "D:\\Material\\AmostrasLarissa\\venv\\lib\\site-packages\\astartes\\main.py:357: NormalizationWarning: Requested train/test split (0.75, 0.30) do not sum to 1.0, normalizing to train=0.71, test=0.29.\n",
      "  warn(\n",
      "D:\\Material\\AmostrasLarissa\\venv\\lib\\site-packages\\pyod\\models\\base.py:430: UserWarning: y should not be presented in unsupervised learning.\n",
      "  warnings.warn(\n",
      "D:\\Material\\AmostrasLarissa\\venv\\lib\\site-packages\\astartes\\main.py:357: NormalizationWarning: Requested train/test split (0.75, 0.30) do not sum to 1.0, normalizing to train=0.71, test=0.29.\n",
      "  warn(\n",
      "D:\\Material\\AmostrasLarissa\\venv\\lib\\site-packages\\pyod\\models\\base.py:430: UserWarning: y should not be presented in unsupervised learning.\n",
      "  warnings.warn(\n",
      "D:\\Material\\AmostrasLarissa\\venv\\lib\\site-packages\\astartes\\main.py:357: NormalizationWarning: Requested train/test split (0.75, 0.30) do not sum to 1.0, normalizing to train=0.71, test=0.29.\n",
      "  warn(\n",
      "D:\\Material\\AmostrasLarissa\\venv\\lib\\site-packages\\pyod\\models\\base.py:430: UserWarning: y should not be presented in unsupervised learning.\n",
      "  warnings.warn(\n",
      "D:\\Material\\AmostrasLarissa\\venv\\lib\\site-packages\\astartes\\main.py:357: NormalizationWarning: Requested train/test split (0.75, 0.30) do not sum to 1.0, normalizing to train=0.71, test=0.29.\n",
      "  warn(\n",
      "D:\\Material\\AmostrasLarissa\\venv\\lib\\site-packages\\pyod\\models\\base.py:430: UserWarning: y should not be presented in unsupervised learning.\n",
      "  warnings.warn(\n",
      "D:\\Material\\AmostrasLarissa\\venv\\lib\\site-packages\\astartes\\main.py:357: NormalizationWarning: Requested train/test split (0.75, 0.30) do not sum to 1.0, normalizing to train=0.71, test=0.29.\n",
      "  warn(\n",
      "D:\\Material\\AmostrasLarissa\\venv\\lib\\site-packages\\pyod\\models\\base.py:430: UserWarning: y should not be presented in unsupervised learning.\n",
      "  warnings.warn(\n",
      "D:\\Material\\AmostrasLarissa\\venv\\lib\\site-packages\\astartes\\main.py:357: NormalizationWarning: Requested train/test split (0.75, 0.30) do not sum to 1.0, normalizing to train=0.71, test=0.29.\n",
      "  warn(\n",
      "D:\\Material\\AmostrasLarissa\\venv\\lib\\site-packages\\pyod\\models\\base.py:430: UserWarning: y should not be presented in unsupervised learning.\n",
      "  warnings.warn(\n",
      "D:\\Material\\AmostrasLarissa\\venv\\lib\\site-packages\\astartes\\main.py:357: NormalizationWarning: Requested train/test split (0.75, 0.30) do not sum to 1.0, normalizing to train=0.71, test=0.29.\n",
      "  warn(\n",
      "D:\\Material\\AmostrasLarissa\\venv\\lib\\site-packages\\pyod\\models\\base.py:430: UserWarning: y should not be presented in unsupervised learning.\n",
      "  warnings.warn(\n",
      "D:\\Material\\AmostrasLarissa\\venv\\lib\\site-packages\\astartes\\main.py:357: NormalizationWarning: Requested train/test split (0.75, 0.30) do not sum to 1.0, normalizing to train=0.71, test=0.29.\n",
      "  warn(\n"
     ]
    },
    {
     "name": "stdout",
     "output_type": "stream",
     "text": [
      "Contamination: 0.3\n"
     ]
    },
    {
     "name": "stderr",
     "output_type": "stream",
     "text": [
      "D:\\Material\\AmostrasLarissa\\venv\\lib\\site-packages\\pyod\\models\\base.py:430: UserWarning: y should not be presented in unsupervised learning.\n",
      "  warnings.warn(\n",
      "D:\\Material\\AmostrasLarissa\\venv\\lib\\site-packages\\astartes\\main.py:357: NormalizationWarning: Requested train/test split (0.75, 0.30) do not sum to 1.0, normalizing to train=0.71, test=0.29.\n",
      "  warn(\n"
     ]
    }
   ],
   "source": [
    "spectrumWithoutOutliers, y ,c, opt = findBestContamination(selectedSpectrum,y)"
   ],
   "metadata": {
    "collapsed": false
   }
  },
  {
   "cell_type": "code",
   "execution_count": 8,
   "outputs": [
    {
     "name": "stderr",
     "output_type": "stream",
     "text": [
      "D:\\Material\\AmostrasLarissa\\venv\\lib\\site-packages\\astartes\\main.py:357: NormalizationWarning: Requested train/test split (0.75, 0.30) do not sum to 1.0, normalizing to train=0.71, test=0.29.\n",
      "  warn(\n"
     ]
    }
   ],
   "source": [
    "X_train, X_test, y_train, y_test = at.train_test_split(spectrumWithoutOutliers, y, test_size = 0.30)"
   ],
   "metadata": {
    "collapsed": false
   }
  },
  {
   "cell_type": "code",
   "execution_count": 9,
   "outputs": [
    {
     "name": "stdout",
     "output_type": "stream",
     "text": [
      "R2 Calib: 0.221\n",
      "R2 CV: 0.247\n",
      "MSE Calib: 3520.406\n",
      "MSE CV: 2875.200\n",
      "MAE Calib: 1896.984\n",
      "MAE Valid: 2079.597\n",
      "RPDC : 1.133\n",
      "RPD : 1.152\n"
     ]
    },
    {
     "data": {
      "text/plain": "<Figure size 900x500 with 1 Axes>",
      "image/png": "[encoded data removed]"
     },
     "metadata": {},
     "output_type": "display_data"
    }
   ],
   "source": [
    "printKennardStonePLS(X_train, y_train, X_test, y_test, opt)"
   ],
   "metadata": {
    "collapsed": false
   }
  }
 ],
 "metadata": {
  "kernelspec": {
   "display_name": "Python 3",
   "language": "python",
   "name": "python3"
  },
  "language_info": {
   "codemirror_mode": {
    "name": "ipython",
    "version": 2
   },
   "file_extension": ".py",
   "mimetype": "text/x-python",
   "name": "python",
   "nbconvert_exporter": "python",
   "pygments_lexer": "ipython2",
   "version": "2.7.6"
  }
 },
 "nbformat": 4,
 "nbformat_minor": 0
}
